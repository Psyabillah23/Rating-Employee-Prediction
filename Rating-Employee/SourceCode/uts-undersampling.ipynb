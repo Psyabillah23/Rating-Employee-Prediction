{
 "cells": [
  {
   "cell_type": "code",
   "execution_count": 1,
   "id": "acfd4a17",
   "metadata": {
    "_cell_guid": "b1076dfc-b9ad-4769-8c92-a6c4dae69d19",
    "_uuid": "8f2839f25d086af736a60e9eeb907d3b93b6e0e5",
    "execution": {
     "iopub.execute_input": "2023-10-31T14:29:16.989474Z",
     "iopub.status.busy": "2023-10-31T14:29:16.989075Z",
     "iopub.status.idle": "2023-10-31T14:29:19.589388Z",
     "shell.execute_reply": "2023-10-31T14:29:19.588181Z"
    },
    "papermill": {
     "duration": 2.613952,
     "end_time": "2023-10-31T14:29:19.592190",
     "exception": false,
     "start_time": "2023-10-31T14:29:16.978238",
     "status": "completed"
    },
    "tags": []
   },
   "outputs": [],
   "source": [
    "import pandas as pd\n",
    "import numpy as np\n",
    "import matplotlib.pyplot as plt\n",
    "import seaborn as sns\n",
    "%matplotlib inline\n",
    "\n",
    "# Models from Scikit-learn\n",
    "from sklearn.linear_model import LogisticRegression\n",
    "from sklearn.neighbors import KNeighborsClassifier\n",
    "from sklearn.ensemble import RandomForestClassifier\n",
    "from sklearn.tree import DecisionTreeClassifier\n",
    "\n",
    "# Model Evaluations\n",
    "from sklearn.model_selection import train_test_split, cross_val_score\n",
    "from sklearn.metrics import confusion_matrix, classification_report\n",
    "\n",
    "import warnings\n",
    "warnings.filterwarnings('ignore')"
   ]
  },
  {
   "cell_type": "code",
   "execution_count": 2,
   "id": "4bdd03f2",
   "metadata": {
    "execution": {
     "iopub.execute_input": "2023-10-31T14:29:19.612624Z",
     "iopub.status.busy": "2023-10-31T14:29:19.611750Z",
     "iopub.status.idle": "2023-10-31T14:29:19.688061Z",
     "shell.execute_reply": "2023-10-31T14:29:19.686982Z"
    },
    "papermill": {
     "duration": 0.089607,
     "end_time": "2023-10-31T14:29:19.690954",
     "exception": false,
     "start_time": "2023-10-31T14:29:19.601347",
     "status": "completed"
    },
    "tags": []
   },
   "outputs": [
    {
     "data": {
      "text/html": [
       "<div>\n",
       "<style scoped>\n",
       "    .dataframe tbody tr th:only-of-type {\n",
       "        vertical-align: middle;\n",
       "    }\n",
       "\n",
       "    .dataframe tbody tr th {\n",
       "        vertical-align: top;\n",
       "    }\n",
       "\n",
       "    .dataframe thead th {\n",
       "        text-align: right;\n",
       "    }\n",
       "</style>\n",
       "<table border=\"1\" class=\"dataframe\">\n",
       "  <thead>\n",
       "    <tr style=\"text-align: right;\">\n",
       "      <th></th>\n",
       "      <th>EmpID</th>\n",
       "      <th>Age</th>\n",
       "      <th>AgeGroup</th>\n",
       "      <th>Attrition</th>\n",
       "      <th>BusinessTravel</th>\n",
       "      <th>DailyRate</th>\n",
       "      <th>Department</th>\n",
       "      <th>DistanceFromHome</th>\n",
       "      <th>Education</th>\n",
       "      <th>EducationField</th>\n",
       "      <th>...</th>\n",
       "      <th>RelationshipSatisfaction</th>\n",
       "      <th>StandardHours</th>\n",
       "      <th>StockOptionLevel</th>\n",
       "      <th>TotalWorkingYears</th>\n",
       "      <th>TrainingTimesLastYear</th>\n",
       "      <th>WorkLifeBalance</th>\n",
       "      <th>YearsAtCompany</th>\n",
       "      <th>YearsInCurrentRole</th>\n",
       "      <th>YearsSinceLastPromotion</th>\n",
       "      <th>YearsWithCurrManager</th>\n",
       "    </tr>\n",
       "  </thead>\n",
       "  <tbody>\n",
       "    <tr>\n",
       "      <th>0</th>\n",
       "      <td>RM297</td>\n",
       "      <td>18</td>\n",
       "      <td>18-25</td>\n",
       "      <td>Yes</td>\n",
       "      <td>Travel_Rarely</td>\n",
       "      <td>230</td>\n",
       "      <td>Research &amp; Development</td>\n",
       "      <td>3</td>\n",
       "      <td>3</td>\n",
       "      <td>Life Sciences</td>\n",
       "      <td>...</td>\n",
       "      <td>3</td>\n",
       "      <td>80</td>\n",
       "      <td>0</td>\n",
       "      <td>0</td>\n",
       "      <td>2</td>\n",
       "      <td>3</td>\n",
       "      <td>0</td>\n",
       "      <td>0</td>\n",
       "      <td>0</td>\n",
       "      <td>0.0</td>\n",
       "    </tr>\n",
       "    <tr>\n",
       "      <th>1</th>\n",
       "      <td>RM302</td>\n",
       "      <td>18</td>\n",
       "      <td>18-25</td>\n",
       "      <td>No</td>\n",
       "      <td>Travel_Rarely</td>\n",
       "      <td>812</td>\n",
       "      <td>Sales</td>\n",
       "      <td>10</td>\n",
       "      <td>3</td>\n",
       "      <td>Medical</td>\n",
       "      <td>...</td>\n",
       "      <td>1</td>\n",
       "      <td>80</td>\n",
       "      <td>0</td>\n",
       "      <td>0</td>\n",
       "      <td>2</td>\n",
       "      <td>3</td>\n",
       "      <td>0</td>\n",
       "      <td>0</td>\n",
       "      <td>0</td>\n",
       "      <td>0.0</td>\n",
       "    </tr>\n",
       "    <tr>\n",
       "      <th>2</th>\n",
       "      <td>RM458</td>\n",
       "      <td>18</td>\n",
       "      <td>18-25</td>\n",
       "      <td>Yes</td>\n",
       "      <td>Travel_Frequently</td>\n",
       "      <td>1306</td>\n",
       "      <td>Sales</td>\n",
       "      <td>5</td>\n",
       "      <td>3</td>\n",
       "      <td>Marketing</td>\n",
       "      <td>...</td>\n",
       "      <td>4</td>\n",
       "      <td>80</td>\n",
       "      <td>0</td>\n",
       "      <td>0</td>\n",
       "      <td>3</td>\n",
       "      <td>3</td>\n",
       "      <td>0</td>\n",
       "      <td>0</td>\n",
       "      <td>0</td>\n",
       "      <td>0.0</td>\n",
       "    </tr>\n",
       "    <tr>\n",
       "      <th>3</th>\n",
       "      <td>RM728</td>\n",
       "      <td>18</td>\n",
       "      <td>18-25</td>\n",
       "      <td>No</td>\n",
       "      <td>Non-Travel</td>\n",
       "      <td>287</td>\n",
       "      <td>Research &amp; Development</td>\n",
       "      <td>5</td>\n",
       "      <td>2</td>\n",
       "      <td>Life Sciences</td>\n",
       "      <td>...</td>\n",
       "      <td>4</td>\n",
       "      <td>80</td>\n",
       "      <td>0</td>\n",
       "      <td>0</td>\n",
       "      <td>2</td>\n",
       "      <td>3</td>\n",
       "      <td>0</td>\n",
       "      <td>0</td>\n",
       "      <td>0</td>\n",
       "      <td>0.0</td>\n",
       "    </tr>\n",
       "    <tr>\n",
       "      <th>4</th>\n",
       "      <td>RM829</td>\n",
       "      <td>18</td>\n",
       "      <td>18-25</td>\n",
       "      <td>Yes</td>\n",
       "      <td>Non-Travel</td>\n",
       "      <td>247</td>\n",
       "      <td>Research &amp; Development</td>\n",
       "      <td>8</td>\n",
       "      <td>1</td>\n",
       "      <td>Medical</td>\n",
       "      <td>...</td>\n",
       "      <td>4</td>\n",
       "      <td>80</td>\n",
       "      <td>0</td>\n",
       "      <td>0</td>\n",
       "      <td>0</td>\n",
       "      <td>3</td>\n",
       "      <td>0</td>\n",
       "      <td>0</td>\n",
       "      <td>0</td>\n",
       "      <td>0.0</td>\n",
       "    </tr>\n",
       "  </tbody>\n",
       "</table>\n",
       "<p>5 rows × 38 columns</p>\n",
       "</div>"
      ],
      "text/plain": [
       "   EmpID  Age AgeGroup Attrition     BusinessTravel  DailyRate  \\\n",
       "0  RM297   18    18-25       Yes      Travel_Rarely        230   \n",
       "1  RM302   18    18-25        No      Travel_Rarely        812   \n",
       "2  RM458   18    18-25       Yes  Travel_Frequently       1306   \n",
       "3  RM728   18    18-25        No         Non-Travel        287   \n",
       "4  RM829   18    18-25       Yes         Non-Travel        247   \n",
       "\n",
       "               Department  DistanceFromHome  Education EducationField  ...  \\\n",
       "0  Research & Development                 3          3  Life Sciences  ...   \n",
       "1                   Sales                10          3        Medical  ...   \n",
       "2                   Sales                 5          3      Marketing  ...   \n",
       "3  Research & Development                 5          2  Life Sciences  ...   \n",
       "4  Research & Development                 8          1        Medical  ...   \n",
       "\n",
       "   RelationshipSatisfaction  StandardHours  StockOptionLevel  \\\n",
       "0                         3             80                 0   \n",
       "1                         1             80                 0   \n",
       "2                         4             80                 0   \n",
       "3                         4             80                 0   \n",
       "4                         4             80                 0   \n",
       "\n",
       "  TotalWorkingYears  TrainingTimesLastYear  WorkLifeBalance  YearsAtCompany  \\\n",
       "0                 0                      2                3               0   \n",
       "1                 0                      2                3               0   \n",
       "2                 0                      3                3               0   \n",
       "3                 0                      2                3               0   \n",
       "4                 0                      0                3               0   \n",
       "\n",
       "  YearsInCurrentRole  YearsSinceLastPromotion YearsWithCurrManager  \n",
       "0                  0                        0                  0.0  \n",
       "1                  0                        0                  0.0  \n",
       "2                  0                        0                  0.0  \n",
       "3                  0                        0                  0.0  \n",
       "4                  0                        0                  0.0  \n",
       "\n",
       "[5 rows x 38 columns]"
      ]
     },
     "execution_count": 2,
     "metadata": {},
     "output_type": "execute_result"
    }
   ],
   "source": [
    "df_raw = pd.read_csv(\"/kaggle/input/hr-analytics-dataset/HR_Analytics.csv\")\n",
    "df_raw.head()"
   ]
  },
  {
   "cell_type": "code",
   "execution_count": 3,
   "id": "8fbdf793",
   "metadata": {
    "execution": {
     "iopub.execute_input": "2023-10-31T14:29:19.712178Z",
     "iopub.status.busy": "2023-10-31T14:29:19.711729Z",
     "iopub.status.idle": "2023-10-31T14:29:19.732390Z",
     "shell.execute_reply": "2023-10-31T14:29:19.731201Z"
    },
    "papermill": {
     "duration": 0.03391,
     "end_time": "2023-10-31T14:29:19.734500",
     "exception": false,
     "start_time": "2023-10-31T14:29:19.700590",
     "status": "completed"
    },
    "tags": []
   },
   "outputs": [
    {
     "data": {
      "text/html": [
       "<div>\n",
       "<style scoped>\n",
       "    .dataframe tbody tr th:only-of-type {\n",
       "        vertical-align: middle;\n",
       "    }\n",
       "\n",
       "    .dataframe tbody tr th {\n",
       "        vertical-align: top;\n",
       "    }\n",
       "\n",
       "    .dataframe thead th {\n",
       "        text-align: right;\n",
       "    }\n",
       "</style>\n",
       "<table border=\"1\" class=\"dataframe\">\n",
       "  <thead>\n",
       "    <tr style=\"text-align: right;\">\n",
       "      <th></th>\n",
       "      <th>EmpID</th>\n",
       "      <th>Age</th>\n",
       "      <th>AgeGroup</th>\n",
       "      <th>Attrition</th>\n",
       "      <th>BusinessTravel</th>\n",
       "      <th>DailyRate</th>\n",
       "      <th>Department</th>\n",
       "      <th>DistanceFromHome</th>\n",
       "      <th>Education</th>\n",
       "      <th>EducationField</th>\n",
       "      <th>...</th>\n",
       "      <th>RelationshipSatisfaction</th>\n",
       "      <th>StandardHours</th>\n",
       "      <th>StockOptionLevel</th>\n",
       "      <th>TotalWorkingYears</th>\n",
       "      <th>TrainingTimesLastYear</th>\n",
       "      <th>WorkLifeBalance</th>\n",
       "      <th>YearsAtCompany</th>\n",
       "      <th>YearsInCurrentRole</th>\n",
       "      <th>YearsSinceLastPromotion</th>\n",
       "      <th>YearsWithCurrManager</th>\n",
       "    </tr>\n",
       "  </thead>\n",
       "  <tbody>\n",
       "    <tr>\n",
       "      <th>0</th>\n",
       "      <td>RM297</td>\n",
       "      <td>18</td>\n",
       "      <td>18-25</td>\n",
       "      <td>Yes</td>\n",
       "      <td>Travel_Rarely</td>\n",
       "      <td>230</td>\n",
       "      <td>Research &amp; Development</td>\n",
       "      <td>3</td>\n",
       "      <td>3</td>\n",
       "      <td>Life Sciences</td>\n",
       "      <td>...</td>\n",
       "      <td>3</td>\n",
       "      <td>80</td>\n",
       "      <td>0</td>\n",
       "      <td>0</td>\n",
       "      <td>2</td>\n",
       "      <td>3</td>\n",
       "      <td>0</td>\n",
       "      <td>0</td>\n",
       "      <td>0</td>\n",
       "      <td>0.0</td>\n",
       "    </tr>\n",
       "    <tr>\n",
       "      <th>1</th>\n",
       "      <td>RM302</td>\n",
       "      <td>18</td>\n",
       "      <td>18-25</td>\n",
       "      <td>No</td>\n",
       "      <td>Travel_Rarely</td>\n",
       "      <td>812</td>\n",
       "      <td>Sales</td>\n",
       "      <td>10</td>\n",
       "      <td>3</td>\n",
       "      <td>Medical</td>\n",
       "      <td>...</td>\n",
       "      <td>1</td>\n",
       "      <td>80</td>\n",
       "      <td>0</td>\n",
       "      <td>0</td>\n",
       "      <td>2</td>\n",
       "      <td>3</td>\n",
       "      <td>0</td>\n",
       "      <td>0</td>\n",
       "      <td>0</td>\n",
       "      <td>0.0</td>\n",
       "    </tr>\n",
       "    <tr>\n",
       "      <th>2</th>\n",
       "      <td>RM458</td>\n",
       "      <td>18</td>\n",
       "      <td>18-25</td>\n",
       "      <td>Yes</td>\n",
       "      <td>Travel_Frequently</td>\n",
       "      <td>1306</td>\n",
       "      <td>Sales</td>\n",
       "      <td>5</td>\n",
       "      <td>3</td>\n",
       "      <td>Marketing</td>\n",
       "      <td>...</td>\n",
       "      <td>4</td>\n",
       "      <td>80</td>\n",
       "      <td>0</td>\n",
       "      <td>0</td>\n",
       "      <td>3</td>\n",
       "      <td>3</td>\n",
       "      <td>0</td>\n",
       "      <td>0</td>\n",
       "      <td>0</td>\n",
       "      <td>0.0</td>\n",
       "    </tr>\n",
       "    <tr>\n",
       "      <th>3</th>\n",
       "      <td>RM728</td>\n",
       "      <td>18</td>\n",
       "      <td>18-25</td>\n",
       "      <td>No</td>\n",
       "      <td>Non-Travel</td>\n",
       "      <td>287</td>\n",
       "      <td>Research &amp; Development</td>\n",
       "      <td>5</td>\n",
       "      <td>2</td>\n",
       "      <td>Life Sciences</td>\n",
       "      <td>...</td>\n",
       "      <td>4</td>\n",
       "      <td>80</td>\n",
       "      <td>0</td>\n",
       "      <td>0</td>\n",
       "      <td>2</td>\n",
       "      <td>3</td>\n",
       "      <td>0</td>\n",
       "      <td>0</td>\n",
       "      <td>0</td>\n",
       "      <td>0.0</td>\n",
       "    </tr>\n",
       "    <tr>\n",
       "      <th>4</th>\n",
       "      <td>RM829</td>\n",
       "      <td>18</td>\n",
       "      <td>18-25</td>\n",
       "      <td>Yes</td>\n",
       "      <td>Non-Travel</td>\n",
       "      <td>247</td>\n",
       "      <td>Research &amp; Development</td>\n",
       "      <td>8</td>\n",
       "      <td>1</td>\n",
       "      <td>Medical</td>\n",
       "      <td>...</td>\n",
       "      <td>4</td>\n",
       "      <td>80</td>\n",
       "      <td>0</td>\n",
       "      <td>0</td>\n",
       "      <td>0</td>\n",
       "      <td>3</td>\n",
       "      <td>0</td>\n",
       "      <td>0</td>\n",
       "      <td>0</td>\n",
       "      <td>0.0</td>\n",
       "    </tr>\n",
       "  </tbody>\n",
       "</table>\n",
       "<p>5 rows × 38 columns</p>\n",
       "</div>"
      ],
      "text/plain": [
       "   EmpID  Age AgeGroup Attrition     BusinessTravel  DailyRate  \\\n",
       "0  RM297   18    18-25       Yes      Travel_Rarely        230   \n",
       "1  RM302   18    18-25        No      Travel_Rarely        812   \n",
       "2  RM458   18    18-25       Yes  Travel_Frequently       1306   \n",
       "3  RM728   18    18-25        No         Non-Travel        287   \n",
       "4  RM829   18    18-25       Yes         Non-Travel        247   \n",
       "\n",
       "               Department  DistanceFromHome  Education EducationField  ...  \\\n",
       "0  Research & Development                 3          3  Life Sciences  ...   \n",
       "1                   Sales                10          3        Medical  ...   \n",
       "2                   Sales                 5          3      Marketing  ...   \n",
       "3  Research & Development                 5          2  Life Sciences  ...   \n",
       "4  Research & Development                 8          1        Medical  ...   \n",
       "\n",
       "   RelationshipSatisfaction  StandardHours  StockOptionLevel  \\\n",
       "0                         3             80                 0   \n",
       "1                         1             80                 0   \n",
       "2                         4             80                 0   \n",
       "3                         4             80                 0   \n",
       "4                         4             80                 0   \n",
       "\n",
       "  TotalWorkingYears  TrainingTimesLastYear  WorkLifeBalance  YearsAtCompany  \\\n",
       "0                 0                      2                3               0   \n",
       "1                 0                      2                3               0   \n",
       "2                 0                      3                3               0   \n",
       "3                 0                      2                3               0   \n",
       "4                 0                      0                3               0   \n",
       "\n",
       "  YearsInCurrentRole  YearsSinceLastPromotion YearsWithCurrManager  \n",
       "0                  0                        0                  0.0  \n",
       "1                  0                        0                  0.0  \n",
       "2                  0                        0                  0.0  \n",
       "3                  0                        0                  0.0  \n",
       "4                  0                        0                  0.0  \n",
       "\n",
       "[5 rows x 38 columns]"
      ]
     },
     "execution_count": 3,
     "metadata": {},
     "output_type": "execute_result"
    }
   ],
   "source": [
    "df_raw.head()"
   ]
  },
  {
   "cell_type": "code",
   "execution_count": 4,
   "id": "096562f9",
   "metadata": {
    "execution": {
     "iopub.execute_input": "2023-10-31T14:29:19.756591Z",
     "iopub.status.busy": "2023-10-31T14:29:19.756201Z",
     "iopub.status.idle": "2023-10-31T14:29:19.765260Z",
     "shell.execute_reply": "2023-10-31T14:29:19.764172Z"
    },
    "papermill": {
     "duration": 0.022257,
     "end_time": "2023-10-31T14:29:19.767254",
     "exception": false,
     "start_time": "2023-10-31T14:29:19.744997",
     "status": "completed"
    },
    "tags": []
   },
   "outputs": [],
   "source": [
    "# Memilih kolom-kolom yang diinginkan untuk x\n",
    "x = df_raw[['EmployeeNumber', 'Age', 'JobLevel', 'MonthlyIncome', 'TotalWorkingYears', 'YearsAtCompany']]\n",
    "\n",
    "# Memilih kolom 'PerformanceRating' sebagai y\n",
    "y = df_raw['PerformanceRating']"
   ]
  },
  {
   "cell_type": "code",
   "execution_count": 5,
   "id": "22b242a9",
   "metadata": {
    "execution": {
     "iopub.execute_input": "2023-10-31T14:29:19.788951Z",
     "iopub.status.busy": "2023-10-31T14:29:19.788273Z",
     "iopub.status.idle": "2023-10-31T14:29:19.818082Z",
     "shell.execute_reply": "2023-10-31T14:29:19.816730Z"
    },
    "papermill": {
     "duration": 0.043657,
     "end_time": "2023-10-31T14:29:19.820706",
     "exception": false,
     "start_time": "2023-10-31T14:29:19.777049",
     "status": "completed"
    },
    "tags": []
   },
   "outputs": [
    {
     "name": "stdout",
     "output_type": "stream",
     "text": [
      "<class 'pandas.core.frame.DataFrame'>\n",
      "RangeIndex: 1480 entries, 0 to 1479\n",
      "Data columns (total 38 columns):\n",
      " #   Column                    Non-Null Count  Dtype  \n",
      "---  ------                    --------------  -----  \n",
      " 0   EmpID                     1480 non-null   object \n",
      " 1   Age                       1480 non-null   float64\n",
      " 2   AgeGroup                  1480 non-null   object \n",
      " 3   Attrition                 1480 non-null   object \n",
      " 4   BusinessTravel            1480 non-null   object \n",
      " 5   DailyRate                 1480 non-null   int64  \n",
      " 6   Department                1480 non-null   object \n",
      " 7   DistanceFromHome          1480 non-null   int64  \n",
      " 8   Education                 1480 non-null   int64  \n",
      " 9   EducationField            1480 non-null   object \n",
      " 10  EmployeeCount             1480 non-null   int64  \n",
      " 11  EmployeeNumber            1480 non-null   float64\n",
      " 12  EnvironmentSatisfaction   1480 non-null   int64  \n",
      " 13  Gender                    1480 non-null   object \n",
      " 14  HourlyRate                1480 non-null   int64  \n",
      " 15  JobInvolvement            1480 non-null   int64  \n",
      " 16  JobLevel                  1480 non-null   float64\n",
      " 17  JobRole                   1480 non-null   object \n",
      " 18  JobSatisfaction           1480 non-null   int64  \n",
      " 19  MaritalStatus             1480 non-null   object \n",
      " 20  MonthlyIncome             1480 non-null   float64\n",
      " 21  SalarySlab                1480 non-null   object \n",
      " 22  MonthlyRate               1480 non-null   int64  \n",
      " 23  NumCompaniesWorked        1480 non-null   int64  \n",
      " 24  Over18                    1480 non-null   object \n",
      " 25  OverTime                  1480 non-null   object \n",
      " 26  PercentSalaryHike         1480 non-null   int64  \n",
      " 27  PerformanceRating         1480 non-null   int64  \n",
      " 28  RelationshipSatisfaction  1480 non-null   int64  \n",
      " 29  StandardHours             1480 non-null   int64  \n",
      " 30  StockOptionLevel          1480 non-null   int64  \n",
      " 31  TotalWorkingYears         1480 non-null   float64\n",
      " 32  TrainingTimesLastYear     1480 non-null   int64  \n",
      " 33  WorkLifeBalance           1480 non-null   int64  \n",
      " 34  YearsAtCompany            1480 non-null   float64\n",
      " 35  YearsInCurrentRole        1480 non-null   int64  \n",
      " 36  YearsSinceLastPromotion   1480 non-null   int64  \n",
      " 37  YearsWithCurrManager      1423 non-null   float64\n",
      "dtypes: float64(7), int64(19), object(12)\n",
      "memory usage: 439.5+ KB\n"
     ]
    }
   ],
   "source": [
    "from sklearn.preprocessing import MinMaxScaler\n",
    "scale = MinMaxScaler()\n",
    "data_num_scaled = df_raw.copy()\n",
    "data_num_scaled[['Age','EmployeeNumber','JobLevel','MonthlyIncome','TotalWorkingYears','YearsAtCompany']] = scale.fit_transform(df_raw[['Age','EmployeeNumber','JobLevel','MonthlyIncome','TotalWorkingYears','YearsAtCompany']])\n",
    "data_num_scaled.info()"
   ]
  },
  {
   "cell_type": "code",
   "execution_count": 6,
   "id": "13eb312d",
   "metadata": {
    "execution": {
     "iopub.execute_input": "2023-10-31T14:29:19.842213Z",
     "iopub.status.busy": "2023-10-31T14:29:19.841809Z",
     "iopub.status.idle": "2023-10-31T14:29:19.849123Z",
     "shell.execute_reply": "2023-10-31T14:29:19.847807Z"
    },
    "papermill": {
     "duration": 0.020804,
     "end_time": "2023-10-31T14:29:19.851361",
     "exception": false,
     "start_time": "2023-10-31T14:29:19.830557",
     "status": "completed"
    },
    "tags": []
   },
   "outputs": [],
   "source": [
    "# Menghapus beberapa kolom (ganti dengan nama-nama kolom yang ingin dihapus)\n",
    "kolom_yang_dihapus = ['EmpID',\n",
    " 'AgeGroup',\n",
    " 'Attrition',\n",
    " 'BusinessTravel',\n",
    " 'DailyRate',\n",
    " 'Department',\n",
    " 'DistanceFromHome',\n",
    " 'Education',\n",
    " 'EducationField',\n",
    " 'EmployeeCount',\n",
    " 'EnvironmentSatisfaction',\n",
    " 'Gender',\n",
    " 'HourlyRate',\n",
    " 'JobInvolvement',\n",
    " 'JobRole',\n",
    " 'JobSatisfaction',\n",
    " 'MaritalStatus',\n",
    " 'SalarySlab',\n",
    " 'MonthlyRate',\n",
    " 'NumCompaniesWorked',\n",
    " 'Over18',\n",
    " 'OverTime',\n",
    " 'PercentSalaryHike',\n",
    " 'RelationshipSatisfaction',\n",
    " 'StandardHours',\n",
    " 'StockOptionLevel',\n",
    " 'TrainingTimesLastYear',\n",
    " 'WorkLifeBalance',\n",
    " 'YearsInCurrentRole',\n",
    " 'YearsSinceLastPromotion',\n",
    " 'YearsWithCurrManager']\n",
    "df = df_raw.drop(columns=kolom_yang_dihapus)"
   ]
  },
  {
   "cell_type": "code",
   "execution_count": 7,
   "id": "753bd883",
   "metadata": {
    "execution": {
     "iopub.execute_input": "2023-10-31T14:29:19.874254Z",
     "iopub.status.busy": "2023-10-31T14:29:19.873245Z",
     "iopub.status.idle": "2023-10-31T14:29:19.887613Z",
     "shell.execute_reply": "2023-10-31T14:29:19.886376Z"
    },
    "papermill": {
     "duration": 0.028192,
     "end_time": "2023-10-31T14:29:19.889728",
     "exception": false,
     "start_time": "2023-10-31T14:29:19.861536",
     "status": "completed"
    },
    "tags": []
   },
   "outputs": [
    {
     "name": "stdout",
     "output_type": "stream",
     "text": [
      "(1480, 7)\n",
      "(1093, 7)\n"
     ]
    }
   ],
   "source": [
    "#MENGHAPUS OUTLIERS\n",
    "Q1 = df.quantile(0.25)\n",
    "Q3 = df.quantile(0.75)\n",
    "IQR = Q3 - Q1\n",
    "df_1 = df[~((df < (Q1 - 1.5 * IQR )) | (df > (Q3 + 1.5* IQR))).any(axis=1)]\n",
    "print(df.shape)\n",
    "print(df_1.shape)"
   ]
  },
  {
   "cell_type": "code",
   "execution_count": 8,
   "id": "0a79f361",
   "metadata": {
    "execution": {
     "iopub.execute_input": "2023-10-31T14:29:19.911102Z",
     "iopub.status.busy": "2023-10-31T14:29:19.910708Z",
     "iopub.status.idle": "2023-10-31T14:29:19.918767Z",
     "shell.execute_reply": "2023-10-31T14:29:19.917933Z"
    },
    "papermill": {
     "duration": 0.021337,
     "end_time": "2023-10-31T14:29:19.920983",
     "exception": false,
     "start_time": "2023-10-31T14:29:19.899646",
     "status": "completed"
    },
    "tags": []
   },
   "outputs": [],
   "source": [
    "from sklearn.utils import resample\n",
    "import pandas as pd\n",
    "\n",
    "# Membuat dua DataFrame terpisah untuk kelas mayoritas dan minoritas\n",
    "df_majority = df[df['PerformanceRating'] == 3]\n",
    "df_minority = df[df['PerformanceRating'] == 4]\n",
    "\n",
    "# Menentukan jumlah sampel yang ingin dihasilkan untuk kelas mayoritas (di sini, kita ingin jumlah sampel yang sama dengan kelas minoritas)\n",
    "n_samples_minority = len(df_minority)\n",
    "n_samples_majority = n_samples_minority\n",
    "\n",
    "# Melakukan undersampling pada kelas mayoritas\n",
    "df_majority_undersampled = resample(df_majority,\n",
    "                                    replace=False,     # Sampling tanpa penggantian (undersampling)\n",
    "                                    n_samples=n_samples_majority,  # Jumlah sampel yang sesuai dengan kelas minoritas\n",
    "                                    random_state=42)   # Untuk hasil yang dapat direproduksi\n",
    "\n",
    "# Menggabungkan kelas mayoritas yang telah diundersample dengan kelas minoritas\n",
    "df_up = pd.concat([df_majority_undersampled, df_minority])\n",
    "\n",
    "# Sekarang, df_up berisi DataFrame dengan kelas mayoritas yang telah diundersampling"
   ]
  },
  {
   "cell_type": "code",
   "execution_count": 9,
   "id": "c560e90a",
   "metadata": {
    "execution": {
     "iopub.execute_input": "2023-10-31T14:29:19.943021Z",
     "iopub.status.busy": "2023-10-31T14:29:19.942572Z",
     "iopub.status.idle": "2023-10-31T14:29:19.950561Z",
     "shell.execute_reply": "2023-10-31T14:29:19.949544Z"
    },
    "papermill": {
     "duration": 0.021443,
     "end_time": "2023-10-31T14:29:19.952699",
     "exception": false,
     "start_time": "2023-10-31T14:29:19.931256",
     "status": "completed"
    },
    "tags": []
   },
   "outputs": [
    {
     "data": {
      "text/plain": [
       "PerformanceRating\n",
       "3    227\n",
       "4    227\n",
       "Name: count, dtype: int64"
      ]
     },
     "execution_count": 9,
     "metadata": {},
     "output_type": "execute_result"
    }
   ],
   "source": [
    "df_up['PerformanceRating'].value_counts()"
   ]
  },
  {
   "cell_type": "code",
   "execution_count": 10,
   "id": "2d4f0b87",
   "metadata": {
    "execution": {
     "iopub.execute_input": "2023-10-31T14:29:19.974490Z",
     "iopub.status.busy": "2023-10-31T14:29:19.974060Z",
     "iopub.status.idle": "2023-10-31T14:29:20.208934Z",
     "shell.execute_reply": "2023-10-31T14:29:20.207842Z"
    },
    "papermill": {
     "duration": 0.248448,
     "end_time": "2023-10-31T14:29:20.211273",
     "exception": false,
     "start_time": "2023-10-31T14:29:19.962825",
     "status": "completed"
    },
    "tags": []
   },
   "outputs": [
    {
     "data": {
      "image/png": "[encoded data removed]",
      "text/plain": [
       "<Figure size 640x480 with 1 Axes>"
      ]
     },
     "metadata": {},
     "output_type": "display_data"
    }
   ],
   "source": [
    "import seaborn as sns\n",
    "import matplotlib.pyplot as plt\n",
    "\n",
    "# Show countplot of 'enrolled' feature\n",
    "sns.countplot(x='PerformanceRating', data=df_up)\n",
    "\n",
    "# Optional: Add labels and title\n",
    "plt.xlabel(\"PerformanceRating\")\n",
    "plt.ylabel(\"Count\")\n",
    "plt.title(\"Countplot of Employee's Performance Rating\")\n",
    "\n",
    "plt.show()"
   ]
  },
  {
   "cell_type": "code",
   "execution_count": 11,
   "id": "071a3063",
   "metadata": {
    "execution": {
     "iopub.execute_input": "2023-10-31T14:29:20.233811Z",
     "iopub.status.busy": "2023-10-31T14:29:20.233092Z",
     "iopub.status.idle": "2023-10-31T14:29:20.243739Z",
     "shell.execute_reply": "2023-10-31T14:29:20.242609Z"
    },
    "papermill": {
     "duration": 0.024917,
     "end_time": "2023-10-31T14:29:20.246441",
     "exception": false,
     "start_time": "2023-10-31T14:29:20.221524",
     "status": "completed"
    },
    "tags": []
   },
   "outputs": [
    {
     "name": "stdout",
     "output_type": "stream",
     "text": [
      "<class 'pandas.core.frame.DataFrame'>\n",
      "Index: 454 entries, 849 to 1479\n",
      "Data columns (total 7 columns):\n",
      " #   Column             Non-Null Count  Dtype\n",
      "---  ------             --------------  -----\n",
      " 0   Age                454 non-null    int64\n",
      " 1   EmployeeNumber     454 non-null    int64\n",
      " 2   JobLevel           454 non-null    int64\n",
      " 3   MonthlyIncome      454 non-null    int64\n",
      " 4   PerformanceRating  454 non-null    int64\n",
      " 5   TotalWorkingYears  454 non-null    int64\n",
      " 6   YearsAtCompany     454 non-null    int64\n",
      "dtypes: int64(7)\n",
      "memory usage: 28.4 KB\n"
     ]
    }
   ],
   "source": [
    "df_up.info()"
   ]
  },
  {
   "cell_type": "code",
   "execution_count": 12,
   "id": "efd972d1",
   "metadata": {
    "execution": {
     "iopub.execute_input": "2023-10-31T14:29:20.270426Z",
     "iopub.status.busy": "2023-10-31T14:29:20.270064Z",
     "iopub.status.idle": "2023-10-31T14:29:20.279771Z",
     "shell.execute_reply": "2023-10-31T14:29:20.278675Z"
    },
    "papermill": {
     "duration": 0.024943,
     "end_time": "2023-10-31T14:29:20.281972",
     "exception": false,
     "start_time": "2023-10-31T14:29:20.257029",
     "status": "completed"
    },
    "tags": []
   },
   "outputs": [
    {
     "name": "stdout",
     "output_type": "stream",
     "text": [
      "x:\n",
      "      EmployeeNumber  Age  JobLevel  MonthlyIncome  TotalWorkingYears  \\\n",
      "849             1787   37         2           4189                  5   \n",
      "1464            1938   58         4          17875                 29   \n",
      "1262              64   48         3           5381                 23   \n",
      "1088            1547   42         3          10124                 24   \n",
      "1309             174   50         3           9208                 16   \n",
      "\n",
      "      YearsAtCompany  \n",
      "849                5  \n",
      "1464               1  \n",
      "1262               1  \n",
      "1088              20  \n",
      "1309               2  \n",
      "y:\n",
      "849     3\n",
      "1464    3\n",
      "1262    3\n",
      "1088    3\n",
      "1309    3\n",
      "Name: PerformanceRating, dtype: int64\n"
     ]
    }
   ],
   "source": [
    "# Memilih kolom-kolom yang diinginkan untuk x\n",
    "x = df_up[['EmployeeNumber', 'Age', 'JobLevel', 'MonthlyIncome', 'TotalWorkingYears', 'YearsAtCompany']]\n",
    "\n",
    "# Memilih kolom 'PerformanceRating' sebagai y\n",
    "y = df_up['PerformanceRating']\n",
    "\n",
    "# Menampilkan lima baris pertama dari x dan y\n",
    "print(\"x:\")\n",
    "print(x.head())\n",
    "\n",
    "print(\"y:\")\n",
    "print(y.head())"
   ]
  },
  {
   "cell_type": "code",
   "execution_count": 13,
   "id": "5ef53ba6",
   "metadata": {
    "execution": {
     "iopub.execute_input": "2023-10-31T14:29:20.304679Z",
     "iopub.status.busy": "2023-10-31T14:29:20.304333Z",
     "iopub.status.idle": "2023-10-31T14:29:20.462125Z",
     "shell.execute_reply": "2023-10-31T14:29:20.461224Z"
    },
    "papermill": {
     "duration": 0.171536,
     "end_time": "2023-10-31T14:29:20.464070",
     "exception": false,
     "start_time": "2023-10-31T14:29:20.292534",
     "status": "completed"
    },
    "tags": []
   },
   "outputs": [
    {
     "data": {
      "image/png": "[encoded data removed]",
      "text/plain": [
       "<Figure size 640x480 with 1 Axes>"
      ]
     },
     "metadata": {},
     "output_type": "display_data"
    }
   ],
   "source": [
    "import seaborn as sns\n",
    "import matplotlib.pyplot as plt\n",
    "\n",
    "# Show countplot of 'enrolled' feature\n",
    "sns.countplot(x='PerformanceRating', data=df_up)\n",
    "\n",
    "# Optional: Add labels and title\n",
    "plt.xlabel(\"PerformanceRating\")\n",
    "plt.ylabel(\"Count\")\n",
    "plt.title(\"Countplot of Employee's Performance Rating\")\n",
    "\n",
    "plt.show()"
   ]
  },
  {
   "cell_type": "code",
   "execution_count": 14,
   "id": "f0e24e21",
   "metadata": {
    "execution": {
     "iopub.execute_input": "2023-10-31T14:29:20.488149Z",
     "iopub.status.busy": "2023-10-31T14:29:20.487719Z",
     "iopub.status.idle": "2023-10-31T14:29:21.120558Z",
     "shell.execute_reply": "2023-10-31T14:29:21.119442Z"
    },
    "papermill": {
     "duration": 0.647714,
     "end_time": "2023-10-31T14:29:21.122921",
     "exception": false,
     "start_time": "2023-10-31T14:29:20.475207",
     "status": "completed"
    },
    "tags": []
   },
   "outputs": [
    {
     "data": {
      "text/plain": [
       "Text(0.5, 0, 'Age(years)')"
      ]
     },
     "execution_count": 14,
     "metadata": {},
     "output_type": "execute_result"
    },
    {
     "data": {
      "image/png": "[encoded data removed]",
      "text/plain": [
       "<Figure size 1000x1200 with 1 Axes>"
      ]
     },
     "metadata": {},
     "output_type": "display_data"
    }
   ],
   "source": [
    "import matplotlib.pyplot as plt\n",
    "import seaborn as sns\n",
    "\n",
    "#figure size\n",
    "plt.figure(figsize=(10,12))\n",
    "\n",
    "#histogram\n",
    "sns.histplot(data=df_up, x=\"Age\", hue=\"PerformanceRating\", binwidth=1, kde=True)\n",
    "\n",
    "plt.title(\"Age Distribution\")\n",
    "plt.xlabel(\"Age(years)\")"
   ]
  },
  {
   "cell_type": "code",
   "execution_count": 15,
   "id": "9c6c6ddd",
   "metadata": {
    "execution": {
     "iopub.execute_input": "2023-10-31T14:29:21.148812Z",
     "iopub.status.busy": "2023-10-31T14:29:21.148242Z",
     "iopub.status.idle": "2023-10-31T14:29:21.156042Z",
     "shell.execute_reply": "2023-10-31T14:29:21.154794Z"
    },
    "papermill": {
     "duration": 0.023308,
     "end_time": "2023-10-31T14:29:21.158140",
     "exception": false,
     "start_time": "2023-10-31T14:29:21.134832",
     "status": "completed"
    },
    "tags": []
   },
   "outputs": [
    {
     "name": "stdout",
     "output_type": "stream",
     "text": [
      "Missing Values:\n",
      "Age                  0\n",
      "EmployeeNumber       0\n",
      "JobLevel             0\n",
      "MonthlyIncome        0\n",
      "PerformanceRating    0\n",
      "TotalWorkingYears    0\n",
      "YearsAtCompany       0\n",
      "dtype: int64\n",
      "--------------------------------------------------\n",
      "Duplicated Data Count: 2\n"
     ]
    }
   ],
   "source": [
    "print(\"Missing Values:\")\n",
    "print(df_up.isna().sum())\n",
    "print(\"-\" * 50)\n",
    "print(\"Duplicated Data Count:\", df_up.duplicated().sum())"
   ]
  },
  {
   "cell_type": "code",
   "execution_count": 16,
   "id": "5119fc8f",
   "metadata": {
    "execution": {
     "iopub.execute_input": "2023-10-31T14:29:21.184175Z",
     "iopub.status.busy": "2023-10-31T14:29:21.183548Z",
     "iopub.status.idle": "2023-10-31T14:29:21.188830Z",
     "shell.execute_reply": "2023-10-31T14:29:21.188006Z"
    },
    "papermill": {
     "duration": 0.020754,
     "end_time": "2023-10-31T14:29:21.190997",
     "exception": false,
     "start_time": "2023-10-31T14:29:21.170243",
     "status": "completed"
    },
    "tags": []
   },
   "outputs": [],
   "source": [
    "#SPLIT DATASET\n",
    "x_train, x_test, y_train, y_test, = train_test_split(x,y, test_size=0.2)"
   ]
  },
  {
   "cell_type": "code",
   "execution_count": 17,
   "id": "b388747d",
   "metadata": {
    "execution": {
     "iopub.execute_input": "2023-10-31T14:29:21.217552Z",
     "iopub.status.busy": "2023-10-31T14:29:21.216859Z",
     "iopub.status.idle": "2023-10-31T14:29:21.428620Z",
     "shell.execute_reply": "2023-10-31T14:29:21.427805Z"
    },
    "papermill": {
     "duration": 0.22728,
     "end_time": "2023-10-31T14:29:21.430651",
     "exception": false,
     "start_time": "2023-10-31T14:29:21.203371",
     "status": "completed"
    },
    "tags": []
   },
   "outputs": [
    {
     "data": {
      "text/html": [
       "<style>#sk-container-id-1 {color: black;background-color: white;}#sk-container-id-1 pre{padding: 0;}#sk-container-id-1 div.sk-toggleable {background-color: white;}#sk-container-id-1 label.sk-toggleable__label {cursor: pointer;display: block;width: 100%;margin-bottom: 0;padding: 0.3em;box-sizing: border-box;text-align: center;}#sk-container-id-1 label.sk-toggleable__label-arrow:before {content: \"▸\";float: left;margin-right: 0.25em;color: #696969;}#sk-container-id-1 label.sk-toggleable__label-arrow:hover:before {color: black;}#sk-container-id-1 div.sk-estimator:hover label.sk-toggleable__label-arrow:before {color: black;}#sk-container-id-1 div.sk-toggleable__content {max-height: 0;max-width: 0;overflow: hidden;text-align: left;background-color: #f0f8ff;}#sk-container-id-1 div.sk-toggleable__content pre {margin: 0.2em;color: black;border-radius: 0.25em;background-color: #f0f8ff;}#sk-container-id-1 input.sk-toggleable__control:checked~div.sk-toggleable__content {max-height: 200px;max-width: 100%;overflow: auto;}#sk-container-id-1 input.sk-toggleable__control:checked~label.sk-toggleable__label-arrow:before {content: \"▾\";}#sk-container-id-1 div.sk-estimator input.sk-toggleable__control:checked~label.sk-toggleable__label {background-color: #d4ebff;}#sk-container-id-1 div.sk-label input.sk-toggleable__control:checked~label.sk-toggleable__label {background-color: #d4ebff;}#sk-container-id-1 input.sk-hidden--visually {border: 0;clip: rect(1px 1px 1px 1px);clip: rect(1px, 1px, 1px, 1px);height: 1px;margin: -1px;overflow: hidden;padding: 0;position: absolute;width: 1px;}#sk-container-id-1 div.sk-estimator {font-family: monospace;background-color: #f0f8ff;border: 1px dotted black;border-radius: 0.25em;box-sizing: border-box;margin-bottom: 0.5em;}#sk-container-id-1 div.sk-estimator:hover {background-color: #d4ebff;}#sk-container-id-1 div.sk-parallel-item::after {content: \"\";width: 100%;border-bottom: 1px solid gray;flex-grow: 1;}#sk-container-id-1 div.sk-label:hover label.sk-toggleable__label {background-color: #d4ebff;}#sk-container-id-1 div.sk-serial::before {content: \"\";position: absolute;border-left: 1px solid gray;box-sizing: border-box;top: 0;bottom: 0;left: 50%;z-index: 0;}#sk-container-id-1 div.sk-serial {display: flex;flex-direction: column;align-items: center;background-color: white;padding-right: 0.2em;padding-left: 0.2em;position: relative;}#sk-container-id-1 div.sk-item {position: relative;z-index: 1;}#sk-container-id-1 div.sk-parallel {display: flex;align-items: stretch;justify-content: center;background-color: white;position: relative;}#sk-container-id-1 div.sk-item::before, #sk-container-id-1 div.sk-parallel-item::before {content: \"\";position: absolute;border-left: 1px solid gray;box-sizing: border-box;top: 0;bottom: 0;left: 50%;z-index: -1;}#sk-container-id-1 div.sk-parallel-item {display: flex;flex-direction: column;z-index: 1;position: relative;background-color: white;}#sk-container-id-1 div.sk-parallel-item:first-child::after {align-self: flex-end;width: 50%;}#sk-container-id-1 div.sk-parallel-item:last-child::after {align-self: flex-start;width: 50%;}#sk-container-id-1 div.sk-parallel-item:only-child::after {width: 0;}#sk-container-id-1 div.sk-dashed-wrapped {border: 1px dashed gray;margin: 0 0.4em 0.5em 0.4em;box-sizing: border-box;padding-bottom: 0.4em;background-color: white;}#sk-container-id-1 div.sk-label label {font-family: monospace;font-weight: bold;display: inline-block;line-height: 1.2em;}#sk-container-id-1 div.sk-label-container {text-align: center;}#sk-container-id-1 div.sk-container {/* jupyter's `normalize.less` sets `[hidden] { display: none; }` but bootstrap.min.css set `[hidden] { display: none !important; }` so we also need the `!important` here to be able to override the default hidden behavior on the sphinx rendered scikit-learn.org. See: https://github.com/scikit-learn/scikit-learn/issues/21755 */display: inline-block !important;position: relative;}#sk-container-id-1 div.sk-text-repr-fallback {display: none;}</style><div id=\"sk-container-id-1\" class=\"sk-top-container\"><div class=\"sk-text-repr-fallback\"><pre>RandomForestClassifier()</pre><b>In a Jupyter environment, please rerun this cell to show the HTML representation or trust the notebook. <br />On GitHub, the HTML representation is unable to render, please try loading this page with nbviewer.org.</b></div><div class=\"sk-container\" hidden><div class=\"sk-item\"><div class=\"sk-estimator sk-toggleable\"><input class=\"sk-toggleable__control sk-hidden--visually\" id=\"sk-estimator-id-1\" type=\"checkbox\" checked><label for=\"sk-estimator-id-1\" class=\"sk-toggleable__label sk-toggleable__label-arrow\">RandomForestClassifier</label><div class=\"sk-toggleable__content\"><pre>RandomForestClassifier()</pre></div></div></div></div></div>"
      ],
      "text/plain": [
       "RandomForestClassifier()"
      ]
     },
     "execution_count": 17,
     "metadata": {},
     "output_type": "execute_result"
    }
   ],
   "source": [
    "from sklearn.ensemble import RandomForestClassifier\n",
    "random_forest_model = RandomForestClassifier()\n",
    "random_forest_model.fit(x_train, y_train)"
   ]
  },
  {
   "cell_type": "code",
   "execution_count": 18,
   "id": "9c44cba9",
   "metadata": {
    "execution": {
     "iopub.execute_input": "2023-10-31T14:29:21.457396Z",
     "iopub.status.busy": "2023-10-31T14:29:21.456760Z",
     "iopub.status.idle": "2023-10-31T14:29:21.471099Z",
     "shell.execute_reply": "2023-10-31T14:29:21.469909Z"
    },
    "papermill": {
     "duration": 0.030081,
     "end_time": "2023-10-31T14:29:21.473183",
     "exception": false,
     "start_time": "2023-10-31T14:29:21.443102",
     "status": "completed"
    },
    "tags": []
   },
   "outputs": [
    {
     "name": "stdout",
     "output_type": "stream",
     "text": [
      "[3 4 3 4 4 4 4 4 4 4]\n"
     ]
    }
   ],
   "source": [
    "# Melakukan prediksi dengan model Random Forest Classifier\n",
    "y_predicted = random_forest_model.predict(x_test)\n",
    "\n",
    "# Menampilkan 10 prediksi pertama\n",
    "print(y_predicted[:10])"
   ]
  },
  {
   "cell_type": "code",
   "execution_count": 19,
   "id": "2edaaf25",
   "metadata": {
    "execution": {
     "iopub.execute_input": "2023-10-31T14:29:21.500180Z",
     "iopub.status.busy": "2023-10-31T14:29:21.499390Z",
     "iopub.status.idle": "2023-10-31T14:29:21.515807Z",
     "shell.execute_reply": "2023-10-31T14:29:21.514265Z"
    },
    "papermill": {
     "duration": 0.032543,
     "end_time": "2023-10-31T14:29:21.518257",
     "exception": false,
     "start_time": "2023-10-31T14:29:21.485714",
     "status": "completed"
    },
    "tags": []
   },
   "outputs": [
    {
     "name": "stdout",
     "output_type": "stream",
     "text": [
      "\n",
      "Confusion Matrix:\n",
      "[[22 29]\n",
      " [13 27]]\n",
      "\n",
      "Accuracy:\n",
      "0.5384615384615384\n",
      "\n",
      "Classification Report:\n",
      "              precision    recall  f1-score   support\n",
      "\n",
      "           3       0.63      0.43      0.51        51\n",
      "           4       0.48      0.68      0.56        40\n",
      "\n",
      "    accuracy                           0.54        91\n",
      "   macro avg       0.56      0.55      0.54        91\n",
      "weighted avg       0.56      0.54      0.53        91\n",
      "\n"
     ]
    }
   ],
   "source": [
    "from sklearn.metrics import confusion_matrix, accuracy_score, classification_report\n",
    "\n",
    "model1=RandomForestClassifier()\n",
    "# Matriks kebingungan (confusion matrix)\n",
    "confusion = confusion_matrix(y_test, y_predicted)\n",
    "print('\\nConfusion Matrix:')\n",
    "print(confusion)\n",
    "\n",
    "# Akurasi\n",
    "accuracy = accuracy_score(y_test, y_predicted)\n",
    "print('\\nAccuracy:')\n",
    "print(accuracy)\n",
    "\n",
    "# Laporan klasifikasi\n",
    "classification_rep = classification_report(y_test, y_predicted)\n",
    "print('\\nClassification Report:')\n",
    "print(classification_rep)"
   ]
  },
  {
   "cell_type": "code",
   "execution_count": 20,
   "id": "f5e22324",
   "metadata": {
    "execution": {
     "iopub.execute_input": "2023-10-31T14:29:21.545029Z",
     "iopub.status.busy": "2023-10-31T14:29:21.544623Z",
     "iopub.status.idle": "2023-10-31T14:29:31.447508Z",
     "shell.execute_reply": "2023-10-31T14:29:31.446210Z"
    },
    "papermill": {
     "duration": 9.918895,
     "end_time": "2023-10-31T14:29:31.449776",
     "exception": false,
     "start_time": "2023-10-31T14:29:21.530881",
     "status": "completed"
    },
    "tags": []
   },
   "outputs": [
    {
     "data": {
      "image/png": "[encoded data removed]",
      "text/plain": [
       "<Figure size 640x480 with 1 Axes>"
      ]
     },
     "metadata": {},
     "output_type": "display_data"
    }
   ],
   "source": [
    "import numpy as np\n",
    "import matplotlib.pyplot as plt\n",
    "from sklearn.model_selection import learning_curve\n",
    "from sklearn.ensemble import RandomForestClassifier \n",
    "\n",
    "model = RandomForestClassifier()  \n",
    "\n",
    "# Fungsi untuk membuat kurva pembelajaran\n",
    "def plot_learning_curve(model, x, y, cv):\n",
    "    train_sizes, train_scores, test_scores = learning_curve(\n",
    "        model, x, y, cv=cv, scoring='accuracy', n_jobs=-1, train_sizes=np.linspace(0.1, 1.0, 10)\n",
    "    )\n",
    "\n",
    "    train_scores_mean = np.mean(train_scores, axis=1)\n",
    "    train_scores_std = np.std(train_scores, axis=1)\n",
    "    test_scores_mean = np.mean(test_scores, axis=1)\n",
    "    test_scores_std = np.std(test_scores, axis=1)\n",
    "\n",
    "    plt.figure()\n",
    "    plt.title(\"Learning Curve\")\n",
    "    plt.xlabel(\"Training examples\")\n",
    "    plt.ylabel(\"Score\")\n",
    "    plt.grid()\n",
    "\n",
    "    plt.fill_between(train_sizes, train_scores_mean - train_scores_std, train_scores_mean + train_scores_std, alpha=0.1, color=\"r\")\n",
    "    plt.fill_between(train_sizes, test_scores_mean - test_scores_std, test_scores_mean + test_scores_std, alpha=0.1, color=\"g\")\n",
    "    plt.plot(train_sizes, train_scores_mean, 'o-', color=\"r\", label=\"Training score\")\n",
    "    plt.plot(train_sizes, test_scores_mean, 'o-', color=\"g\", label=\"Cross-validation score\")\n",
    "\n",
    "    plt.legend(loc=\"best\")\n",
    "    return plt\n",
    "\n",
    "# Panggil fungsi untuk membuat kurva pembelajaran\n",
    "plot_learning_curve(model, x, y, cv=10)\n",
    "plt.show()"
   ]
  },
  {
   "cell_type": "code",
   "execution_count": 21,
   "id": "d573a36c",
   "metadata": {
    "execution": {
     "iopub.execute_input": "2023-10-31T14:29:31.535921Z",
     "iopub.status.busy": "2023-10-31T14:29:31.535503Z",
     "iopub.status.idle": "2023-10-31T14:29:31.547858Z",
     "shell.execute_reply": "2023-10-31T14:29:31.547110Z"
    },
    "papermill": {
     "duration": 0.029381,
     "end_time": "2023-10-31T14:29:31.549811",
     "exception": false,
     "start_time": "2023-10-31T14:29:31.520430",
     "status": "completed"
    },
    "tags": []
   },
   "outputs": [
    {
     "data": {
      "text/html": [
       "<style>#sk-container-id-2 {color: black;background-color: white;}#sk-container-id-2 pre{padding: 0;}#sk-container-id-2 div.sk-toggleable {background-color: white;}#sk-container-id-2 label.sk-toggleable__label {cursor: pointer;display: block;width: 100%;margin-bottom: 0;padding: 0.3em;box-sizing: border-box;text-align: center;}#sk-container-id-2 label.sk-toggleable__label-arrow:before {content: \"▸\";float: left;margin-right: 0.25em;color: #696969;}#sk-container-id-2 label.sk-toggleable__label-arrow:hover:before {color: black;}#sk-container-id-2 div.sk-estimator:hover label.sk-toggleable__label-arrow:before {color: black;}#sk-container-id-2 div.sk-toggleable__content {max-height: 0;max-width: 0;overflow: hidden;text-align: left;background-color: #f0f8ff;}#sk-container-id-2 div.sk-toggleable__content pre {margin: 0.2em;color: black;border-radius: 0.25em;background-color: #f0f8ff;}#sk-container-id-2 input.sk-toggleable__control:checked~div.sk-toggleable__content {max-height: 200px;max-width: 100%;overflow: auto;}#sk-container-id-2 input.sk-toggleable__control:checked~label.sk-toggleable__label-arrow:before {content: \"▾\";}#sk-container-id-2 div.sk-estimator input.sk-toggleable__control:checked~label.sk-toggleable__label {background-color: #d4ebff;}#sk-container-id-2 div.sk-label input.sk-toggleable__control:checked~label.sk-toggleable__label {background-color: #d4ebff;}#sk-container-id-2 input.sk-hidden--visually {border: 0;clip: rect(1px 1px 1px 1px);clip: rect(1px, 1px, 1px, 1px);height: 1px;margin: -1px;overflow: hidden;padding: 0;position: absolute;width: 1px;}#sk-container-id-2 div.sk-estimator {font-family: monospace;background-color: #f0f8ff;border: 1px dotted black;border-radius: 0.25em;box-sizing: border-box;margin-bottom: 0.5em;}#sk-container-id-2 div.sk-estimator:hover {background-color: #d4ebff;}#sk-container-id-2 div.sk-parallel-item::after {content: \"\";width: 100%;border-bottom: 1px solid gray;flex-grow: 1;}#sk-container-id-2 div.sk-label:hover label.sk-toggleable__label {background-color: #d4ebff;}#sk-container-id-2 div.sk-serial::before {content: \"\";position: absolute;border-left: 1px solid gray;box-sizing: border-box;top: 0;bottom: 0;left: 50%;z-index: 0;}#sk-container-id-2 div.sk-serial {display: flex;flex-direction: column;align-items: center;background-color: white;padding-right: 0.2em;padding-left: 0.2em;position: relative;}#sk-container-id-2 div.sk-item {position: relative;z-index: 1;}#sk-container-id-2 div.sk-parallel {display: flex;align-items: stretch;justify-content: center;background-color: white;position: relative;}#sk-container-id-2 div.sk-item::before, #sk-container-id-2 div.sk-parallel-item::before {content: \"\";position: absolute;border-left: 1px solid gray;box-sizing: border-box;top: 0;bottom: 0;left: 50%;z-index: -1;}#sk-container-id-2 div.sk-parallel-item {display: flex;flex-direction: column;z-index: 1;position: relative;background-color: white;}#sk-container-id-2 div.sk-parallel-item:first-child::after {align-self: flex-end;width: 50%;}#sk-container-id-2 div.sk-parallel-item:last-child::after {align-self: flex-start;width: 50%;}#sk-container-id-2 div.sk-parallel-item:only-child::after {width: 0;}#sk-container-id-2 div.sk-dashed-wrapped {border: 1px dashed gray;margin: 0 0.4em 0.5em 0.4em;box-sizing: border-box;padding-bottom: 0.4em;background-color: white;}#sk-container-id-2 div.sk-label label {font-family: monospace;font-weight: bold;display: inline-block;line-height: 1.2em;}#sk-container-id-2 div.sk-label-container {text-align: center;}#sk-container-id-2 div.sk-container {/* jupyter's `normalize.less` sets `[hidden] { display: none; }` but bootstrap.min.css set `[hidden] { display: none !important; }` so we also need the `!important` here to be able to override the default hidden behavior on the sphinx rendered scikit-learn.org. See: https://github.com/scikit-learn/scikit-learn/issues/21755 */display: inline-block !important;position: relative;}#sk-container-id-2 div.sk-text-repr-fallback {display: none;}</style><div id=\"sk-container-id-2\" class=\"sk-top-container\"><div class=\"sk-text-repr-fallback\"><pre>DecisionTreeClassifier()</pre><b>In a Jupyter environment, please rerun this cell to show the HTML representation or trust the notebook. <br />On GitHub, the HTML representation is unable to render, please try loading this page with nbviewer.org.</b></div><div class=\"sk-container\" hidden><div class=\"sk-item\"><div class=\"sk-estimator sk-toggleable\"><input class=\"sk-toggleable__control sk-hidden--visually\" id=\"sk-estimator-id-2\" type=\"checkbox\" checked><label for=\"sk-estimator-id-2\" class=\"sk-toggleable__label sk-toggleable__label-arrow\">DecisionTreeClassifier</label><div class=\"sk-toggleable__content\"><pre>DecisionTreeClassifier()</pre></div></div></div></div></div>"
      ],
      "text/plain": [
       "DecisionTreeClassifier()"
      ]
     },
     "execution_count": 21,
     "metadata": {},
     "output_type": "execute_result"
    }
   ],
   "source": [
    "from sklearn.tree import DecisionTreeClassifier\n",
    "decision_tree_model = DecisionTreeClassifier()\n",
    "decision_tree_model.fit(x_train, y_train)"
   ]
  },
  {
   "cell_type": "code",
   "execution_count": 22,
   "id": "60601873",
   "metadata": {
    "execution": {
     "iopub.execute_input": "2023-10-31T14:29:31.579396Z",
     "iopub.status.busy": "2023-10-31T14:29:31.578668Z",
     "iopub.status.idle": "2023-10-31T14:29:31.585743Z",
     "shell.execute_reply": "2023-10-31T14:29:31.584904Z"
    },
    "papermill": {
     "duration": 0.024151,
     "end_time": "2023-10-31T14:29:31.587774",
     "exception": false,
     "start_time": "2023-10-31T14:29:31.563623",
     "status": "completed"
    },
    "tags": []
   },
   "outputs": [
    {
     "name": "stdout",
     "output_type": "stream",
     "text": [
      "[4 4 3 4 3 4 4 4 3 4]\n"
     ]
    }
   ],
   "source": [
    "# Melakukan prediksi dengan model Decision Tree Classifier\n",
    "y_predicted = decision_tree_model.predict(x_test)\n",
    "\n",
    "# Menampilkan 10 prediksi pertama\n",
    "print(y_predicted[:10])"
   ]
  },
  {
   "cell_type": "code",
   "execution_count": 23,
   "id": "d6bcd9a7",
   "metadata": {
    "execution": {
     "iopub.execute_input": "2023-10-31T14:29:31.618329Z",
     "iopub.status.busy": "2023-10-31T14:29:31.617635Z",
     "iopub.status.idle": "2023-10-31T14:29:31.625141Z",
     "shell.execute_reply": "2023-10-31T14:29:31.623890Z"
    },
    "papermill": {
     "duration": 0.024694,
     "end_time": "2023-10-31T14:29:31.627154",
     "exception": false,
     "start_time": "2023-10-31T14:29:31.602460",
     "status": "completed"
    },
    "tags": []
   },
   "outputs": [
    {
     "name": "stdout",
     "output_type": "stream",
     "text": [
      "[[0. 1.]\n",
      " [0. 1.]\n",
      " [1. 0.]\n",
      " [0. 1.]\n",
      " [1. 0.]\n",
      " [0. 1.]\n",
      " [0. 1.]\n",
      " [0. 1.]\n",
      " [1. 0.]\n",
      " [0. 1.]]\n"
     ]
    }
   ],
   "source": [
    "# Mendapatkan probabilitas prediksi kelas dari model Decision Tree Classifier\n",
    "y_predicted_proba = decision_tree_model.predict_proba(x_test)\n",
    "\n",
    "# Menampilkan 10 probabilitas pertama\n",
    "print(y_predicted_proba[:10])"
   ]
  },
  {
   "cell_type": "code",
   "execution_count": 24,
   "id": "a17e1624",
   "metadata": {
    "execution": {
     "iopub.execute_input": "2023-10-31T14:29:31.657083Z",
     "iopub.status.busy": "2023-10-31T14:29:31.656428Z",
     "iopub.status.idle": "2023-10-31T14:29:31.673018Z",
     "shell.execute_reply": "2023-10-31T14:29:31.672024Z"
    },
    "papermill": {
     "duration": 0.034651,
     "end_time": "2023-10-31T14:29:31.675558",
     "exception": false,
     "start_time": "2023-10-31T14:29:31.640907",
     "status": "completed"
    },
    "tags": []
   },
   "outputs": [
    {
     "name": "stdout",
     "output_type": "stream",
     "text": [
      "\n",
      "Confusion Matrix:\n",
      "[[24 27]\n",
      " [22 18]]\n",
      "\n",
      "Accuracy:\n",
      "0.46153846153846156\n",
      "\n",
      "Classification Report:\n",
      "              precision    recall  f1-score   support\n",
      "\n",
      "           3       0.52      0.47      0.49        51\n",
      "           4       0.40      0.45      0.42        40\n",
      "\n",
      "    accuracy                           0.46        91\n",
      "   macro avg       0.46      0.46      0.46        91\n",
      "weighted avg       0.47      0.46      0.46        91\n",
      "\n"
     ]
    }
   ],
   "source": [
    "from sklearn.metrics import confusion_matrix, accuracy_score, classification_report\n",
    "\n",
    "\n",
    "# Matriks kebingungan (confusion matrix)\n",
    "confusion = confusion_matrix(y_test, y_predicted)\n",
    "print('\\nConfusion Matrix:')\n",
    "print(confusion)\n",
    "\n",
    "# Akurasi\n",
    "accuracy = accuracy_score(y_test, y_predicted)\n",
    "print('\\nAccuracy:')\n",
    "print(accuracy)\n",
    "\n",
    "# Laporan klasifikasi\n",
    "classification_rep = classification_report(y_test, y_predicted)\n",
    "print('\\nClassification Report:')\n",
    "print(classification_rep)"
   ]
  },
  {
   "cell_type": "code",
   "execution_count": 25,
   "id": "fc50e65a",
   "metadata": {
    "execution": {
     "iopub.execute_input": "2023-10-31T14:29:31.705668Z",
     "iopub.status.busy": "2023-10-31T14:29:31.704477Z",
     "iopub.status.idle": "2023-10-31T14:29:32.338533Z",
     "shell.execute_reply": "2023-10-31T14:29:32.337304Z"
    },
    "papermill": {
     "duration": 0.651615,
     "end_time": "2023-10-31T14:29:32.341190",
     "exception": false,
     "start_time": "2023-10-31T14:29:31.689575",
     "status": "completed"
    },
    "tags": []
   },
   "outputs": [
    {
     "data": {
      "image/png": "[encoded data removed]",
      "text/plain": [
       "<Figure size 640x480 with 1 Axes>"
      ]
     },
     "metadata": {},
     "output_type": "display_data"
    }
   ],
   "source": [
    "import numpy as np\n",
    "import matplotlib.pyplot as plt\n",
    "from sklearn.model_selection import learning_curve\n",
    "from sklearn.ensemble import RandomForestClassifier \n",
    "\n",
    "model = DecisionTreeClassifier()  \n",
    "\n",
    "# Fungsi untuk membuat kurva pembelajaran\n",
    "def plot_learning_curve(model, x, y, cv):\n",
    "    train_sizes, train_scores, test_scores = learning_curve(\n",
    "        model, x, y, cv=cv, scoring='accuracy', n_jobs=-1, train_sizes=np.linspace(0.1, 1.0, 10)\n",
    "    )\n",
    "\n",
    "    train_scores_mean = np.mean(train_scores, axis=1)\n",
    "    train_scores_std = np.std(train_scores, axis=1)\n",
    "    test_scores_mean = np.mean(test_scores, axis=1)\n",
    "    test_scores_std = np.std(test_scores, axis=1)\n",
    "\n",
    "    plt.figure()\n",
    "    plt.title(\"Learning Curve\")\n",
    "    plt.xlabel(\"Training examples\")\n",
    "    plt.ylabel(\"Score\")\n",
    "    plt.grid()\n",
    "\n",
    "    plt.fill_between(train_sizes, train_scores_mean - train_scores_std, train_scores_mean + train_scores_std, alpha=0.1, color=\"r\")\n",
    "    plt.fill_between(train_sizes, test_scores_mean - test_scores_std, test_scores_mean + test_scores_std, alpha=0.1, color=\"g\")\n",
    "    plt.plot(train_sizes, train_scores_mean, 'o-', color=\"r\", label=\"Training score\")\n",
    "    plt.plot(train_sizes, test_scores_mean, 'o-', color=\"g\", label=\"Cross-validation score\")\n",
    "\n",
    "    plt.legend(loc=\"best\")\n",
    "    return plt\n",
    "\n",
    "# Panggil fungsi untuk membuat kurva pembelajaran\n",
    "plot_learning_curve(model, x, y, cv=10)\n",
    "plt.show()"
   ]
  },
  {
   "cell_type": "code",
   "execution_count": 26,
   "id": "bbeda1b8",
   "metadata": {
    "execution": {
     "iopub.execute_input": "2023-10-31T14:29:32.372684Z",
     "iopub.status.busy": "2023-10-31T14:29:32.371567Z",
     "iopub.status.idle": "2023-10-31T14:29:32.498988Z",
     "shell.execute_reply": "2023-10-31T14:29:32.497870Z"
    },
    "papermill": {
     "duration": 0.14547,
     "end_time": "2023-10-31T14:29:32.501264",
     "exception": false,
     "start_time": "2023-10-31T14:29:32.355794",
     "status": "completed"
    },
    "tags": []
   },
   "outputs": [
    {
     "name": "stdout",
     "output_type": "stream",
     "text": [
      "\n",
      "confustion matrix\n",
      "[[24 27]\n",
      " [22 18]]\n",
      "Akurasi: 49.45%\n",
      "\n",
      "classification report\n",
      "              precision    recall  f1-score   support\n",
      "\n",
      "           3       0.52      0.47      0.49        51\n",
      "           4       0.40      0.45      0.42        40\n",
      "\n",
      "    accuracy                           0.46        91\n",
      "   macro avg       0.46      0.46      0.46        91\n",
      "weighted avg       0.47      0.46      0.46        91\n",
      "\n"
     ]
    }
   ],
   "source": [
    "#max_depth (KECIL MENNNN GUSH DIREFINING)\n",
    "from sklearn.tree import DecisionTreeClassifier\n",
    "from sklearn.datasets import load_iris\n",
    "from sklearn.model_selection import train_test_split\n",
    "from sklearn.metrics import accuracy_score\n",
    "\n",
    "# Buat model Decision Tree dengan pengaturan max depth\n",
    "max_depth = 3 # Ganti nilai max_depth sesuai dengan kebutuhan\n",
    "decision_tree = DecisionTreeClassifier(max_depth=max_depth, random_state=42)\n",
    "\n",
    "# Latih model pada data latih\n",
    "decision_tree.fit(x_train, y_train)\n",
    "\n",
    "# Lakukan prediksi pada data uji\n",
    "y_pred = decision_tree.predict(x_test)\n",
    "\n",
    "# Hitung akurasi\n",
    "from sklearn.metrics import classification_report, confusion_matrix\n",
    "print('\\nconfustion matrix')\n",
    "print(confusion_matrix(y_test, y_predicted))\n",
    "\n",
    "accuracy = accuracy_score(y_test, y_pred)\n",
    "print(\"Akurasi: {:.2f}%\".format(accuracy * 100))\n",
    "\n",
    "from sklearn.metrics import classification_report\n",
    "print('\\nclassification report')\n",
    "print(classification_report(y_test, y_predicted))"
   ]
  },
  {
   "cell_type": "code",
   "execution_count": 27,
   "id": "85e9cbb0",
   "metadata": {
    "execution": {
     "iopub.execute_input": "2023-10-31T14:29:32.532581Z",
     "iopub.status.busy": "2023-10-31T14:29:32.531927Z",
     "iopub.status.idle": "2023-10-31T14:29:32.563185Z",
     "shell.execute_reply": "2023-10-31T14:29:32.561934Z"
    },
    "papermill": {
     "duration": 0.049663,
     "end_time": "2023-10-31T14:29:32.565643",
     "exception": false,
     "start_time": "2023-10-31T14:29:32.515980",
     "status": "completed"
    },
    "tags": []
   },
   "outputs": [
    {
     "name": "stdout",
     "output_type": "stream",
     "text": [
      "\n",
      "Confusion Matrix:\n",
      "[[15 25]\n",
      " [22 29]]\n",
      "\n",
      "Accuracy: 48.35%\n",
      "\n",
      "Classification Report:\n",
      "              precision    recall  f1-score   support\n",
      "\n",
      "           3       0.41      0.38      0.39        40\n",
      "           4       0.54      0.57      0.55        51\n",
      "\n",
      "    accuracy                           0.48        91\n",
      "   macro avg       0.47      0.47      0.47        91\n",
      "weighted avg       0.48      0.48      0.48        91\n",
      "\n"
     ]
    }
   ],
   "source": [
    "#model Bayes Naive (JELEK MENNN)\n",
    "from sklearn.naive_bayes import GaussianNB\n",
    "from sklearn.metrics import confusion_matrix, classification_report\n",
    "\n",
    "model2 = GaussianNB()\n",
    "# Misalkan Anda memiliki data X dan y\n",
    "x_train, x_test, y_train, y_test = train_test_split(x, y, test_size=0.2)\n",
    "\n",
    "# Inisialisasi dan melatih model Gaussian Naive Bayes\n",
    "nb_model = GaussianNB()\n",
    "\n",
    "# Melakukan training\n",
    "nb_model.fit(x_train, y_train)\n",
    "\n",
    "# Melakukan prediksi pada data uji\n",
    "y_predicted = nb_model.predict(x_test)\n",
    "\n",
    "# Matriks kebingungan (confusion matrix)\n",
    "print('\\nConfusion Matrix:')\n",
    "print(confusion_matrix(y_test, y_predicted))\n",
    "\n",
    "# Akurasi\n",
    "accuracy = accuracy_score(y_test, y_predicted)\n",
    "print('\\nAccuracy: {:.2f}%'.format(accuracy * 100))\n",
    "\n",
    "# Laporan klasifikasi\n",
    "print('\\nClassification Report:')\n",
    "print(classification_report(y_test, y_predicted))"
   ]
  },
  {
   "cell_type": "code",
   "execution_count": 28,
   "id": "8924196f",
   "metadata": {
    "execution": {
     "iopub.execute_input": "2023-10-31T14:29:32.597059Z",
     "iopub.status.busy": "2023-10-31T14:29:32.596438Z",
     "iopub.status.idle": "2023-10-31T14:29:32.651743Z",
     "shell.execute_reply": "2023-10-31T14:29:32.650661Z"
    },
    "papermill": {
     "duration": 0.073205,
     "end_time": "2023-10-31T14:29:32.653958",
     "exception": false,
     "start_time": "2023-10-31T14:29:32.580753",
     "status": "completed"
    },
    "tags": []
   },
   "outputs": [
    {
     "data": {
      "text/plain": [
       "0.2971980676328502"
      ]
     },
     "execution_count": 28,
     "metadata": {},
     "output_type": "execute_result"
    }
   ],
   "source": [
    "#idih mampus bayes naive ganti random forest udh\n",
    "from sklearn.model_selection import cross_validate\n",
    "scores = cross_validate(model2, x, y, cv=10, scoring=('accuracy'))\n",
    "scores['test_score'].mean()"
   ]
  },
  {
   "cell_type": "code",
   "execution_count": 29,
   "id": "625b3059",
   "metadata": {
    "execution": {
     "iopub.execute_input": "2023-10-31T14:29:32.685475Z",
     "iopub.status.busy": "2023-10-31T14:29:32.685105Z",
     "iopub.status.idle": "2023-10-31T14:29:33.478020Z",
     "shell.execute_reply": "2023-10-31T14:29:33.476903Z"
    },
    "papermill": {
     "duration": 0.81156,
     "end_time": "2023-10-31T14:29:33.480554",
     "exception": false,
     "start_time": "2023-10-31T14:29:32.668994",
     "status": "completed"
    },
    "tags": []
   },
   "outputs": [
    {
     "data": {
      "image/png": "[encoded data removed]",
      "text/plain": [
       "<Figure size 640x480 with 1 Axes>"
      ]
     },
     "metadata": {},
     "output_type": "display_data"
    }
   ],
   "source": [
    "import numpy as np\n",
    "import matplotlib.pyplot as plt\n",
    "from sklearn.model_selection import learning_curve\n",
    "\n",
    "model = GaussianNB() \n",
    "\n",
    "# Fungsi untuk membuat kurva pembelajaran\n",
    "def plot_learning_curve(model, x, y, cv):\n",
    "    train_sizes, train_scores, test_scores = learning_curve(\n",
    "        model, x, y, cv=cv, scoring='accuracy', n_jobs=-1, train_sizes=np.linspace(0.1, 1.0, 10)\n",
    "    )\n",
    "\n",
    "    train_scores_mean = np.mean(train_scores, axis=1)\n",
    "    train_scores_std = np.std(train_scores, axis=1)\n",
    "    test_scores_mean = np.mean(test_scores, axis=1)\n",
    "    test_scores_std = np.std(test_scores, axis=1)\n",
    "\n",
    "    plt.figure()\n",
    "    plt.title(\"Learning Curve\")\n",
    "    plt.xlabel(\"Training examples\")\n",
    "    plt.ylabel(\"Score\")\n",
    "    plt.grid()\n",
    "\n",
    "    plt.fill_between(train_sizes, train_scores_mean - train_scores_std, train_scores_mean + train_scores_std, alpha=0.1, color=\"r\")\n",
    "    plt.fill_between(train_sizes, test_scores_mean - test_scores_std, test_scores_mean + test_scores_std, alpha=0.1, color=\"g\")\n",
    "    plt.plot(train_sizes, train_scores_mean, 'o-', color=\"r\", label=\"Training score\")\n",
    "    plt.plot(train_sizes, test_scores_mean, 'o-', color=\"g\", label=\"Cross-validation score\")\n",
    "\n",
    "    plt.legend(loc=\"best\")\n",
    "    return plt\n",
    "\n",
    "# Panggil fungsi untuk membuat kurva pembelajaran\n",
    "plot_learning_curve(model, x, y, cv=10)\n",
    "plt.show()"
   ]
  },
  {
   "cell_type": "code",
   "execution_count": 30,
   "id": "0b5c9315",
   "metadata": {
    "execution": {
     "iopub.execute_input": "2023-10-31T14:29:33.514203Z",
     "iopub.status.busy": "2023-10-31T14:29:33.513785Z",
     "iopub.status.idle": "2023-10-31T14:29:33.741369Z",
     "shell.execute_reply": "2023-10-31T14:29:33.740287Z"
    },
    "papermill": {
     "duration": 0.246964,
     "end_time": "2023-10-31T14:29:33.743730",
     "exception": false,
     "start_time": "2023-10-31T14:29:33.496766",
     "status": "completed"
    },
    "tags": []
   },
   "outputs": [
    {
     "name": "stdout",
     "output_type": "stream",
     "text": [
      "\n",
      "Confusion Matrix:\n",
      "[[36  5]\n",
      " [46  4]]\n",
      "\n",
      "Accuracy:\n",
      "0.43956043956043955\n",
      "\n",
      "Classification Report:\n",
      "              precision    recall  f1-score   support\n",
      "\n",
      "           3       0.44      0.88      0.59        41\n",
      "           4       0.44      0.08      0.14        50\n",
      "\n",
      "    accuracy                           0.44        91\n",
      "   macro avg       0.44      0.48      0.36        91\n",
      "weighted avg       0.44      0.44      0.34        91\n",
      "\n"
     ]
    }
   ],
   "source": [
    "# model MLP Classifier\n",
    "from sklearn.neural_network import MLPClassifier\n",
    "from sklearn.model_selection import train_test_split\n",
    "from sklearn.metrics import classification_report, confusion_matrix, accuracy_score\n",
    "\n",
    "model3 = MLPClassifier()\n",
    "# Misalkan Anda memiliki data X dan y\n",
    "x_train, x_test, y_train, y_test = train_test_split(x, y, test_size=0.2)\n",
    "\n",
    "# Inisialisasi dan melatih model MLPClassifier\n",
    "mlp = MLPClassifier(hidden_layer_sizes=(4,16), max_iter=1000)\n",
    "\n",
    "#melakukan training\n",
    "mlp.fit(x_train, y_train)\n",
    "\n",
    "# Melakukan prediksi pada data uji\n",
    "y_predicted = mlp.predict(x_test)\n",
    "\n",
    "# Matriks kebingungan (confusion matrix)\n",
    "print('\\nConfusion Matrix:')\n",
    "print(confusion_matrix(y_test, y_predicted))\n",
    "\n",
    "# Akurasi\n",
    "print('\\nAccuracy:')\n",
    "print(accuracy_score(y_test, y_predicted))\n",
    "\n",
    "# Laporan klasifikasi\n",
    "print('\\nClassification Report:')\n",
    "print(classification_report(y_test, y_predicted))"
   ]
  },
  {
   "cell_type": "code",
   "execution_count": 31,
   "id": "3bb127a8",
   "metadata": {
    "execution": {
     "iopub.execute_input": "2023-10-31T14:29:33.776981Z",
     "iopub.status.busy": "2023-10-31T14:29:33.775830Z",
     "iopub.status.idle": "2023-10-31T14:29:35.295428Z",
     "shell.execute_reply": "2023-10-31T14:29:35.294370Z"
    },
    "papermill": {
     "duration": 1.539012,
     "end_time": "2023-10-31T14:29:35.298265",
     "exception": false,
     "start_time": "2023-10-31T14:29:33.759253",
     "status": "completed"
    },
    "tags": []
   },
   "outputs": [
    {
     "data": {
      "text/plain": [
       "0.48014492753623184"
      ]
     },
     "execution_count": 31,
     "metadata": {},
     "output_type": "execute_result"
    }
   ],
   "source": [
    "from sklearn.model_selection import cross_validate\n",
    "scores = cross_validate(model3, x, y, cv=10, scoring=('accuracy'))\n",
    "scores['test_score'].mean()"
   ]
  },
  {
   "cell_type": "code",
   "execution_count": 32,
   "id": "483004b1",
   "metadata": {
    "execution": {
     "iopub.execute_input": "2023-10-31T14:29:35.359602Z",
     "iopub.status.busy": "2023-10-31T14:29:35.359086Z",
     "iopub.status.idle": "2023-10-31T14:29:37.515024Z",
     "shell.execute_reply": "2023-10-31T14:29:37.513927Z"
    },
    "papermill": {
     "duration": 2.187771,
     "end_time": "2023-10-31T14:29:37.517412",
     "exception": false,
     "start_time": "2023-10-31T14:29:35.329641",
     "status": "completed"
    },
    "tags": []
   },
   "outputs": [
    {
     "data": {
      "image/png": "[encoded data removed]",
      "text/plain": [
       "<Figure size 640x480 with 1 Axes>"
      ]
     },
     "metadata": {},
     "output_type": "display_data"
    }
   ],
   "source": [
    "import numpy as np\n",
    "import matplotlib.pyplot as plt\n",
    "from sklearn.model_selection import learning_curve\n",
    "\n",
    "# Ganti \n",
    "model = MLPClassifier()  \n",
    "\n",
    "# Fungsi untuk membuat kurva pembelajaran\n",
    "def plot_learning_curve(model, x, y, cv):\n",
    "    train_sizes, train_scores, test_scores = learning_curve(\n",
    "        model, x, y, cv=cv, scoring='accuracy', n_jobs=-1, train_sizes=np.linspace(0.1, 1.0, 10)\n",
    "    )\n",
    "\n",
    "    train_scores_mean = np.mean(train_scores, axis=1)\n",
    "    train_scores_std = np.std(train_scores, axis=1)\n",
    "    test_scores_mean = np.mean(test_scores, axis=1)\n",
    "    test_scores_std = np.std(test_scores, axis=1)\n",
    "\n",
    "    plt.figure()\n",
    "    plt.title(\"Learning Curve\")\n",
    "    plt.xlabel(\"Training examples\")\n",
    "    plt.ylabel(\"Score\")\n",
    "    plt.grid()\n",
    "\n",
    "    plt.fill_between(train_sizes, train_scores_mean - train_scores_std, train_scores_mean + train_scores_std, alpha=0.1, color=\"r\")\n",
    "    plt.fill_between(train_sizes, test_scores_mean - test_scores_std, test_scores_mean + test_scores_std, alpha=0.1, color=\"g\")\n",
    "    plt.plot(train_sizes, train_scores_mean, 'o-', color=\"r\", label=\"Training score\")\n",
    "    plt.plot(train_sizes, test_scores_mean, 'o-', color=\"g\", label=\"Cross-validation score\")\n",
    "\n",
    "    plt.legend(loc=\"best\")\n",
    "    return plt\n",
    "\n",
    "# Panggil fungsi untuk membuat kurva pembelajaran\n",
    "plot_learning_curve(model, x, y, cv=10)\n",
    "plt.show()"
   ]
  },
  {
   "cell_type": "code",
   "execution_count": 33,
   "id": "962b86cf",
   "metadata": {
    "execution": {
     "iopub.execute_input": "2023-10-31T14:29:37.551947Z",
     "iopub.status.busy": "2023-10-31T14:29:37.551543Z",
     "iopub.status.idle": "2023-10-31T14:29:37.607985Z",
     "shell.execute_reply": "2023-10-31T14:29:37.606730Z"
    },
    "papermill": {
     "duration": 0.076594,
     "end_time": "2023-10-31T14:29:37.610348",
     "exception": false,
     "start_time": "2023-10-31T14:29:37.533754",
     "status": "completed"
    },
    "tags": []
   },
   "outputs": [
    {
     "name": "stdout",
     "output_type": "stream",
     "text": [
      "AL : K-Nearest Neighbors (20%)\n",
      "\n",
      "\n",
      "Training Model Performance Check\n",
      "Accuracy Score : 0.7521\n",
      "F1 Score : 0.7521\n",
      "Precision Score : 0.7525\n",
      "Recall Score : 0.7521\n",
      "\n",
      "\n",
      "Testing Model Performance Check\n",
      "Accuracy Score : 0.5604\n",
      "F1 Score : 0.5615\n",
      "Precision Score : 0.5647\n",
      "Recall Score : 0.5604\n"
     ]
    }
   ],
   "source": [
    "#K-Nearest Neighbors (20%)\n",
    "\n",
    "from sklearn.neighbors import KNeighborsClassifier\n",
    "from sklearn.metrics import accuracy_score , classification_report, ConfusionMatrixDisplay,precision_score,recall_score, f1_score,roc_auc_score,roc_curve\n",
    "models = KNeighborsClassifier()\n",
    "knn = KNeighborsClassifier(n_neighbors = 3)\n",
    "knn.fit(x_train, y_train.values.ravel())\n",
    "training_prediction = knn.predict(x_train)\n",
    "testing_prediction = knn.predict(x_test)\n",
    "\n",
    "#Training Metrics\n",
    "training_accuracy = accuracy_score(y_train, training_prediction)\n",
    "training_f1 = f1_score(y_train, training_prediction, average = 'weighted')\n",
    "training_precision = precision_score(y_train, training_prediction, average = 'weighted')\n",
    "training_recall = recall_score(y_train, training_prediction, average = 'weighted')\n",
    "\n",
    "#Testing Metrics\n",
    "testing_accuracy = accuracy_score(y_test, testing_prediction)\n",
    "testing_f1 = f1_score(y_test, testing_prediction, average = 'weighted')\n",
    "testing_precision = precision_score(y_test, testing_prediction, average = 'weighted')\n",
    "testing_recall = recall_score(y_test, testing_prediction, average = 'weighted')\n",
    "print('AL : K-Nearest Neighbors (20%)')\n",
    "print('\\n')\n",
    "print('Training Model Performance Check')\n",
    "print('Accuracy Score : {:.4f}'.format(training_accuracy))\n",
    "print('F1 Score : {:.4f}'.format(training_f1))\n",
    "print('Precision Score : {:.4f}'.format(training_precision))\n",
    "print('Recall Score : {:.4f}'.format(training_recall))\n",
    "\n",
    "print('\\n')\n",
    "print('Testing Model Performance Check')\n",
    "print('Accuracy Score : {:.4f}'.format(testing_accuracy))\n",
    "print('F1 Score : {:.4f}'.format(testing_f1))\n",
    "print('Precision Score : {:.4f}'.format(testing_precision))\n",
    "print('Recall Score : {:.4f}'.format(testing_recall))"
   ]
  },
  {
   "cell_type": "code",
   "execution_count": 34,
   "id": "3d91dfd1",
   "metadata": {
    "execution": {
     "iopub.execute_input": "2023-10-31T14:29:37.645563Z",
     "iopub.status.busy": "2023-10-31T14:29:37.645174Z",
     "iopub.status.idle": "2023-10-31T14:29:39.012199Z",
     "shell.execute_reply": "2023-10-31T14:29:39.011212Z"
    },
    "papermill": {
     "duration": 1.387631,
     "end_time": "2023-10-31T14:29:39.014469",
     "exception": false,
     "start_time": "2023-10-31T14:29:37.626838",
     "status": "completed"
    },
    "tags": []
   },
   "outputs": [
    {
     "data": {
      "image/png": "[encoded data removed]",
      "text/plain": [
       "<Figure size 640x480 with 1 Axes>"
      ]
     },
     "metadata": {},
     "output_type": "display_data"
    }
   ],
   "source": [
    "import numpy as np\n",
    "import matplotlib.pyplot as plt\n",
    "from sklearn.model_selection import learning_curve\n",
    "\n",
    "# Ganti \n",
    "model = KNeighborsClassifier() \n",
    "\n",
    "# Fungsi untuk membuat kurva pembelajaran\n",
    "def plot_learning_curve(model, x, y, cv):\n",
    "    train_sizes, train_scores, test_scores = learning_curve(\n",
    "        model, x, y, cv=cv, scoring='accuracy', n_jobs=-1, train_sizes=np.linspace(0.1, 1.0, 10)\n",
    "    )\n",
    "\n",
    "    train_scores_mean = np.mean(train_scores, axis=1)\n",
    "    train_scores_std = np.std(train_scores, axis=1)\n",
    "    test_scores_mean = np.mean(test_scores, axis=1)\n",
    "    test_scores_std = np.std(test_scores, axis=1)\n",
    "\n",
    "    plt.figure()\n",
    "    plt.title(\"Learning Curve\")\n",
    "    plt.xlabel(\"Training examples\")\n",
    "    plt.ylabel(\"Score\")\n",
    "    plt.grid()\n",
    "\n",
    "    plt.fill_between(train_sizes, train_scores_mean - train_scores_std, train_scores_mean + train_scores_std, alpha=0.1, color=\"r\")\n",
    "    plt.fill_between(train_sizes, test_scores_mean - test_scores_std, test_scores_mean + test_scores_std, alpha=0.1, color=\"g\")\n",
    "    plt.plot(train_sizes, train_scores_mean, 'o-', color=\"r\", label=\"Training score\")\n",
    "    plt.plot(train_sizes, test_scores_mean, 'o-', color=\"g\", label=\"Cross-validation score\")\n",
    "\n",
    "    plt.legend(loc=\"best\")\n",
    "    return plt\n",
    "\n",
    "# Panggil fungsi untuk membuat kurva pembelajaran\n",
    "plot_learning_curve(model, x, y, cv=10)\n",
    "plt.show()"
   ]
  },
  {
   "cell_type": "code",
   "execution_count": 35,
   "id": "7a403eb7",
   "metadata": {
    "execution": {
     "iopub.execute_input": "2023-10-31T14:29:39.051327Z",
     "iopub.status.busy": "2023-10-31T14:29:39.050925Z",
     "iopub.status.idle": "2023-10-31T14:29:39.073465Z",
     "shell.execute_reply": "2023-10-31T14:29:39.072348Z"
    },
    "papermill": {
     "duration": 0.043447,
     "end_time": "2023-10-31T14:29:39.075612",
     "exception": false,
     "start_time": "2023-10-31T14:29:39.032165",
     "status": "completed"
    },
    "tags": []
   },
   "outputs": [
    {
     "data": {
      "text/html": [
       "<style>#sk-container-id-3 {color: black;background-color: white;}#sk-container-id-3 pre{padding: 0;}#sk-container-id-3 div.sk-toggleable {background-color: white;}#sk-container-id-3 label.sk-toggleable__label {cursor: pointer;display: block;width: 100%;margin-bottom: 0;padding: 0.3em;box-sizing: border-box;text-align: center;}#sk-container-id-3 label.sk-toggleable__label-arrow:before {content: \"▸\";float: left;margin-right: 0.25em;color: #696969;}#sk-container-id-3 label.sk-toggleable__label-arrow:hover:before {color: black;}#sk-container-id-3 div.sk-estimator:hover label.sk-toggleable__label-arrow:before {color: black;}#sk-container-id-3 div.sk-toggleable__content {max-height: 0;max-width: 0;overflow: hidden;text-align: left;background-color: #f0f8ff;}#sk-container-id-3 div.sk-toggleable__content pre {margin: 0.2em;color: black;border-radius: 0.25em;background-color: #f0f8ff;}#sk-container-id-3 input.sk-toggleable__control:checked~div.sk-toggleable__content {max-height: 200px;max-width: 100%;overflow: auto;}#sk-container-id-3 input.sk-toggleable__control:checked~label.sk-toggleable__label-arrow:before {content: \"▾\";}#sk-container-id-3 div.sk-estimator input.sk-toggleable__control:checked~label.sk-toggleable__label {background-color: #d4ebff;}#sk-container-id-3 div.sk-label input.sk-toggleable__control:checked~label.sk-toggleable__label {background-color: #d4ebff;}#sk-container-id-3 input.sk-hidden--visually {border: 0;clip: rect(1px 1px 1px 1px);clip: rect(1px, 1px, 1px, 1px);height: 1px;margin: -1px;overflow: hidden;padding: 0;position: absolute;width: 1px;}#sk-container-id-3 div.sk-estimator {font-family: monospace;background-color: #f0f8ff;border: 1px dotted black;border-radius: 0.25em;box-sizing: border-box;margin-bottom: 0.5em;}#sk-container-id-3 div.sk-estimator:hover {background-color: #d4ebff;}#sk-container-id-3 div.sk-parallel-item::after {content: \"\";width: 100%;border-bottom: 1px solid gray;flex-grow: 1;}#sk-container-id-3 div.sk-label:hover label.sk-toggleable__label {background-color: #d4ebff;}#sk-container-id-3 div.sk-serial::before {content: \"\";position: absolute;border-left: 1px solid gray;box-sizing: border-box;top: 0;bottom: 0;left: 50%;z-index: 0;}#sk-container-id-3 div.sk-serial {display: flex;flex-direction: column;align-items: center;background-color: white;padding-right: 0.2em;padding-left: 0.2em;position: relative;}#sk-container-id-3 div.sk-item {position: relative;z-index: 1;}#sk-container-id-3 div.sk-parallel {display: flex;align-items: stretch;justify-content: center;background-color: white;position: relative;}#sk-container-id-3 div.sk-item::before, #sk-container-id-3 div.sk-parallel-item::before {content: \"\";position: absolute;border-left: 1px solid gray;box-sizing: border-box;top: 0;bottom: 0;left: 50%;z-index: -1;}#sk-container-id-3 div.sk-parallel-item {display: flex;flex-direction: column;z-index: 1;position: relative;background-color: white;}#sk-container-id-3 div.sk-parallel-item:first-child::after {align-self: flex-end;width: 50%;}#sk-container-id-3 div.sk-parallel-item:last-child::after {align-self: flex-start;width: 50%;}#sk-container-id-3 div.sk-parallel-item:only-child::after {width: 0;}#sk-container-id-3 div.sk-dashed-wrapped {border: 1px dashed gray;margin: 0 0.4em 0.5em 0.4em;box-sizing: border-box;padding-bottom: 0.4em;background-color: white;}#sk-container-id-3 div.sk-label label {font-family: monospace;font-weight: bold;display: inline-block;line-height: 1.2em;}#sk-container-id-3 div.sk-label-container {text-align: center;}#sk-container-id-3 div.sk-container {/* jupyter's `normalize.less` sets `[hidden] { display: none; }` but bootstrap.min.css set `[hidden] { display: none !important; }` so we also need the `!important` here to be able to override the default hidden behavior on the sphinx rendered scikit-learn.org. See: https://github.com/scikit-learn/scikit-learn/issues/21755 */display: inline-block !important;position: relative;}#sk-container-id-3 div.sk-text-repr-fallback {display: none;}</style><div id=\"sk-container-id-3\" class=\"sk-top-container\"><div class=\"sk-text-repr-fallback\"><pre>LogisticRegression(random_state=789)</pre><b>In a Jupyter environment, please rerun this cell to show the HTML representation or trust the notebook. <br />On GitHub, the HTML representation is unable to render, please try loading this page with nbviewer.org.</b></div><div class=\"sk-container\" hidden><div class=\"sk-item\"><div class=\"sk-estimator sk-toggleable\"><input class=\"sk-toggleable__control sk-hidden--visually\" id=\"sk-estimator-id-3\" type=\"checkbox\" checked><label for=\"sk-estimator-id-3\" class=\"sk-toggleable__label sk-toggleable__label-arrow\">LogisticRegression</label><div class=\"sk-toggleable__content\"><pre>LogisticRegression(random_state=789)</pre></div></div></div></div></div>"
      ],
      "text/plain": [
       "LogisticRegression(random_state=789)"
      ]
     },
     "execution_count": 35,
     "metadata": {},
     "output_type": "execute_result"
    }
   ],
   "source": [
    "from sklearn.linear_model import LogisticRegression\n",
    "\n",
    "logreg = LogisticRegression(random_state = 789)\n",
    "logreg.fit(x_train, y_train)"
   ]
  },
  {
   "cell_type": "code",
   "execution_count": 36,
   "id": "b8f63b9f",
   "metadata": {
    "execution": {
     "iopub.execute_input": "2023-10-31T14:29:39.112933Z",
     "iopub.status.busy": "2023-10-31T14:29:39.112197Z",
     "iopub.status.idle": "2023-10-31T14:29:39.121215Z",
     "shell.execute_reply": "2023-10-31T14:29:39.120241Z"
    },
    "papermill": {
     "duration": 0.029978,
     "end_time": "2023-10-31T14:29:39.123239",
     "exception": false,
     "start_time": "2023-10-31T14:29:39.093261",
     "status": "completed"
    },
    "tags": []
   },
   "outputs": [
    {
     "data": {
      "text/plain": [
       "array([3, 3, 3, 3, 3, 3, 3, 3, 3, 3, 3, 3, 3, 3, 3, 3, 4, 4, 3, 3, 3, 3,\n",
       "       3, 3, 3, 3, 3, 3, 3, 3, 3, 3, 3, 3, 3, 3, 3, 3, 4, 3, 3, 3, 3, 3,\n",
       "       3, 3, 3, 4, 3, 3, 3, 3, 3, 3, 3, 3, 3, 3, 3, 3, 3, 3, 3, 3, 3, 3,\n",
       "       3, 3, 3, 3, 3, 3, 3, 3, 3, 3, 3, 3, 3, 3, 3, 3, 3, 3, 3, 3, 3, 3,\n",
       "       3, 3, 3])"
      ]
     },
     "execution_count": 36,
     "metadata": {},
     "output_type": "execute_result"
    }
   ],
   "source": [
    "y_predicted = logreg.predict(x_test)\n",
    "y_predicted"
   ]
  },
  {
   "cell_type": "code",
   "execution_count": 37,
   "id": "38274dd8",
   "metadata": {
    "execution": {
     "iopub.execute_input": "2023-10-31T14:29:39.161000Z",
     "iopub.status.busy": "2023-10-31T14:29:39.160607Z",
     "iopub.status.idle": "2023-10-31T14:29:39.169293Z",
     "shell.execute_reply": "2023-10-31T14:29:39.168215Z"
    },
    "papermill": {
     "duration": 0.029788,
     "end_time": "2023-10-31T14:29:39.171362",
     "exception": false,
     "start_time": "2023-10-31T14:29:39.141574",
     "status": "completed"
    },
    "tags": []
   },
   "outputs": [
    {
     "data": {
      "text/plain": [
       "array([[0.51906221, 0.48093779],\n",
       "       [0.50468435, 0.49531565],\n",
       "       [0.54200231, 0.45799769],\n",
       "       [0.51864907, 0.48135093],\n",
       "       [0.5167115 , 0.4832885 ],\n",
       "       [0.50370059, 0.49629941],\n",
       "       [0.55410209, 0.44589791],\n",
       "       [0.52057183, 0.47942817],\n",
       "       [0.53957064, 0.46042936],\n",
       "       [0.51924664, 0.48075336]])"
      ]
     },
     "execution_count": 37,
     "metadata": {},
     "output_type": "execute_result"
    }
   ],
   "source": [
    "y_predicted_proba = logreg.predict_proba(x_test)\n",
    "y_predicted_proba[:10]"
   ]
  },
  {
   "cell_type": "code",
   "execution_count": 38,
   "id": "7b7c9f5b",
   "metadata": {
    "execution": {
     "iopub.execute_input": "2023-10-31T14:29:39.209409Z",
     "iopub.status.busy": "2023-10-31T14:29:39.209029Z",
     "iopub.status.idle": "2023-10-31T14:29:39.226961Z",
     "shell.execute_reply": "2023-10-31T14:29:39.225289Z"
    },
    "papermill": {
     "duration": 0.039602,
     "end_time": "2023-10-31T14:29:39.229178",
     "exception": false,
     "start_time": "2023-10-31T14:29:39.189576",
     "status": "completed"
    },
    "tags": []
   },
   "outputs": [
    {
     "name": "stdout",
     "output_type": "stream",
     "text": [
      "\n",
      "confustion matrix\n",
      "[[39  2]\n",
      " [48  2]]\n",
      "\n",
      "accuracy\n",
      "0.45054945054945056\n",
      "\n",
      "classification report\n",
      "              precision    recall  f1-score   support\n",
      "\n",
      "           3       0.45      0.95      0.61        41\n",
      "           4       0.50      0.04      0.07        50\n",
      "\n",
      "    accuracy                           0.45        91\n",
      "   macro avg       0.47      0.50      0.34        91\n",
      "weighted avg       0.48      0.45      0.32        91\n",
      "\n"
     ]
    }
   ],
   "source": [
    "from sklearn.metrics import classification_report, confusion_matrix\n",
    "print('\\nconfustion matrix')\n",
    "print(confusion_matrix(y_test, y_predicted))\n",
    "\n",
    "from sklearn.metrics import accuracy_score\n",
    "print('\\naccuracy')\n",
    "print(accuracy_score(y_test, y_predicted))\n",
    "\n",
    "from sklearn.metrics import classification_report\n",
    "print('\\nclassification report')\n",
    "print(classification_report(y_test, y_predicted))"
   ]
  },
  {
   "cell_type": "code",
   "execution_count": 39,
   "id": "b55ef206",
   "metadata": {
    "execution": {
     "iopub.execute_input": "2023-10-31T14:29:39.267636Z",
     "iopub.status.busy": "2023-10-31T14:29:39.266627Z",
     "iopub.status.idle": "2023-10-31T14:29:41.367638Z",
     "shell.execute_reply": "2023-10-31T14:29:41.366802Z"
    },
    "papermill": {
     "duration": 2.123216,
     "end_time": "2023-10-31T14:29:41.370257",
     "exception": false,
     "start_time": "2023-10-31T14:29:39.247041",
     "status": "completed"
    },
    "tags": []
   },
   "outputs": [
    {
     "data": {
      "text/plain": [
       "0.3789855072463768"
      ]
     },
     "execution_count": 39,
     "metadata": {},
     "output_type": "execute_result"
    }
   ],
   "source": [
    "from sklearn.model_selection import cross_validate\n",
    "scores = cross_validate(model1, x, y, cv=10, scoring=('accuracy'))\n",
    "scores['test_score'].mean()"
   ]
  }
 ],
 "metadata": {
  "kernelspec": {
   "display_name": "Python 3",
   "language": "python",
   "name": "python3"
  },
  "language_info": {
   "codemirror_mode": {
    "name": "ipython",
    "version": 3
   },
   "file_extension": ".py",
   "mimetype": "text/x-python",
   "name": "python",
   "nbconvert_exporter": "python",
   "pygments_lexer": "ipython3",
   "version": "3.10.12"
  },
  "papermill": {
   "default_parameters": {},
   "duration": 30.347816,
   "end_time": "2023-10-31T14:29:44.020288",
   "environment_variables": {},
   "exception": null,
   "input_path": "__notebook__.ipynb",
   "output_path": "__notebook__.ipynb",
   "parameters": {},
   "start_time": "2023-10-31T14:29:13.672472",
   "version": "2.4.0"
  }
 },
 "nbformat": 4,
 "nbformat_minor": 5
}
